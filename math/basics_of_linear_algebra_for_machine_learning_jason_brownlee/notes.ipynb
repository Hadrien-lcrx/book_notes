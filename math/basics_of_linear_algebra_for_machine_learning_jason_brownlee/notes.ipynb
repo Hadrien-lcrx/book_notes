{
 "cells": [
  {
   "cell_type": "markdown",
   "id": "3e091d0c-3033-4106-9845-2ff92fd38929",
   "metadata": {},
   "source": [
    "# Basics of linear algebra for machine learning"
   ]
  },
  {
   "cell_type": "markdown",
   "id": "2b028fdb-fa30-44d4-b36e-59dff81621ac",
   "metadata": {},
   "source": [
    "## 01 - Introduction to linear algebra\n",
    "### Linear algebra\n",
    "Linear algebra is about linear combinations: using arithmetic on columns of numbers (vectors) and arrays of numbers (matrices) to create new columns and arrays of numbers. It's been formalized in the 1800s to find unknowns in systems of linear equations. \n",
    "\n",
    "A linear equation is a series of terms and mathematical operations where some terms are unknown, for example:  \n",
    "$y = 4 x + 1$\n",
    "\n",
    "They are called linear equations because they describe a line on a two-dimensional graph. We can line up a system of equations with two or more unknowns:  \n",
    "- $y = 0.1 x_{1} + 0.4 x_{2}$  \n",
    "- $y = 0.3 x_{1} + 0.9 x_{2}$  \n",
    "- $y = 0.2 x_{1} + 0.3 x_{2}$\n",
    "\n",
    "where\n",
    "- the column of $y$ values is a column vector of outputs from the equation\n",
    "- the two columns of float values are the data columns $a_{1}$ and $a_{2}$ forming the matrix $A$\n",
    "- the two unknown values $x_{1}$ and $x_{2}$ are the coefficients of the equation and form a vector of unknowns $b$ to be solved\n",
    "\n",
    "summarized in linear algebra as  \n",
    "$y = A \\cdot b$\n",
    "\n",
    "Such problems are challenging to solve because:\n",
    "- there are usually more unknowns than there are equations to solve\n",
    "- no single line can satisfy all of the equations without error\n",
    "\n",
    "Interesting problems are often described by system with an infinite number of solutions. This is the core of linear algebra as it relates to machine learning. The rest of the operations are about making such problems easier to understand and solve.\n",
    "\n",
    "### Numerical linear algebra\n",
    "Implementations of vector and matrix operations were initially implemented in FORTRAN with libraries such as:\n",
    "- LAPACK\n",
    "- BLAS\n",
    "- ATLAS\n",
    "\n",
    "Popular packages used nowadays in Python for example build on top of these libraries.\n",
    "\n",
    "### Linear algebra and statistics\n",
    "- using vector and matrix notation (multivariate statistics)\n",
    "- solving least squares and weighted least squares (linear regression)\n",
    "- estimating means and variance of data matrices\n",
    "- using the covariance matrix (multinomial Gaussian distributions)\n",
    "- leveraging the concepts above for data reduction with principal component analysis\n",
    "\n",
    "### Applications of linear algebra\n",
    "- matrices in engineering (line of springs)\n",
    "- graphs and networks (graph analysis)\n",
    "- Markov matrices, population, economics (population growth)\n",
    "- linear programming (simplex optimization method)\n",
    "- Fourier series - linear algebra for functions (signal processing)\n",
    "- linear algebra for statistics and probabilities (least squares for regression)\n",
    "- computer graphics (translation, rescaling, rotation of images)"
   ]
  },
  {
   "cell_type": "markdown",
   "id": "0be1b683-0fa7-47bf-8f81-242afe2a145b",
   "metadata": {},
   "source": [
    "## 02 - Linear algebra and machine learning\n",
    "Linear algebra is the mathematics of data. Often recommended as a prerequisite to machine learning, it can make more sense to first build context of the applied machine learning process.\n",
    "\n",
    "### Reasons not to learn linear algebra\n",
    "- it's not required in order to use machine learning as a tool to solve problems\n",
    "- it's slow and might delay you achieving your goals\n",
    "- it's a huge field and not all of it is relevant to machine learning\n",
    "\n",
    "A breadth-first (results-first) approach can help build a skeleton and some context on which to build to deepen knowledge about how algorithms work or the math that underlies them.\n",
    "\n",
    "### Linear algebra notation\n",
    "You need to know how to read and write vector and matrix notation. It enables you to:\n",
    "- describe operations on data precisely\n",
    "- read descriptions of algorithms in textbooks\n",
    "- implement machine learning algorithms faster and more efficiently\n",
    "- interpret and implement new methods in research papers\n",
    "- describe your own methods to other practitioners\n",
    "\n",
    "### Linear algebra arithmetic\n",
    "You need to know how to perform arithmetic operations: add, subtract and multiply scalars, vectors and matrices. Matrix multiplication and tensor multiplication are often non-intuitive at first. Understanding vector and matrix operations is required to effectively read and write matrix notation.\n",
    "\n",
    "### Learn linear algebra for statistics\n",
    "Linear algebra is heavily used in multivariate statistics. To read and interpret statistics, you need to know the notation and operations of linear algebra, such as vectors used for means and variance, or covariance matrices describing the relationships between multiple Gaussian variables. Principal component analysis also leverages such methods.\n",
    "\n",
    "### Learn matrix factorization\n",
    "Matrix factorization, is also called matrix decomposition. You need to know how to factorize a matrix and what it means. Matrix factorization is necessary for more complex operations in linear algebra (matrix inverse) and machine learning (least squares). Different matrix factorization exist, such as singular-value decomposition. To read and interpret higher-order matrix operations, matrix factorization is required.\n",
    "\n",
    "### Learn linear least squares\n",
    "Matrix factorization can be used to solve linear least squares. Problems where there is no line able to fit the data without error can be solved using the least squares method, called linear least squares in linear algebra. Linear least squares are used in regression models, and in a range of machine learning algorithms.\n",
    "\n",
    "### One more reason\n",
    "Seeing how the operations work on real data will help you develop a strong intuition for the methods. You will experience knowledge buzz and mind-expanding moments."
   ]
  },
  {
   "cell_type": "markdown",
   "id": "93289202-5297-4059-9566-0b6aacc11209",
   "metadata": {},
   "source": [
    "## 03 - Examples of linear algebra in machine learning\n",
    "Linear algebra is concerned with vectors, matrices and linear transforms. It is foundational to machine learning from notations used to describe algorithms operation to their implementation in code. The relationship between linear algebra and machine learning is often left unexplained or abstract. Here are some examples of how linear algebra is leveraged in machine learning.\n",
    "\n",
    "### Dataset and data files\n",
    "Data is a matrix, which can be split into inputs (a matrix $X$) and outputs (a vector $y$. Each row has the same length (same number of columns): the data is vectorized and can be passed to a model one by one or in batch. The model can be pre-configured to expect rows of a fixed width.\n",
    "\n",
    "### Images and photographs\n",
    "An image is a table structure with a width and height and one-pixel value in each cell for black and white images or three pixel values (red, green and blue) for color images. Operations such as cropping, scaling, shearing are described using linear algebra notations and operations.\n",
    "\n",
    "### One hot encoding\n",
    "Categorical data can be one hot encoded so they are easier to work with and learn from by some machine learning techniques. One column is created for each category and a row for each example (e.g. if the categories are red, green and blue, we create a red column, a green column and a blue column). For each row in the dataset, we enter 1 in the column corresponding to the category and 0 in the others. Each row is encoded as a binary vector (0 or 1), which is an example of sparse representation.\n",
    "\n",
    "### Linear regression\n",
    "Linear regression is used to describe the relationship between variables. Solving the linear regression problem means finding a set of coefficients that gives the best prediction of the output variable when multiplied by each of the input variable and added together. It is usually solved using least squares optimization leveraging matrix factorization such as LU decomposition or singular-value decomposition.\n",
    "\n",
    "It can be summarized using linear algebra notation:  \n",
    "$y = A \\cdot b$\n",
    "where\n",
    "- $y$ is the output variable\n",
    "- $A$ is the dataset\n",
    "- $b$ are the model coefficients\n",
    "\n",
    "### Regularization\n",
    "Simpler models often have smaller coefficient values. Regularization is leveraged to encourage a model to minimize the size of coefficients. Common implementations are the $L^{1}$ and $L^{2}$ forms. Both are a measure of the length of the coefficients as a vector, and leverage the vector norm.\n",
    "\n",
    "### Principal component analysis\n",
    "Modeling data with many features is challenging. Principal component analysis is a dimensionality reduction method used to create projections of high-dimensional data for visualization and training models. It uses a matrix factorization method; more robust implementations leverage eigendecomposition and singular-value decomposition.\n",
    "\n",
    "### Singular-value decomposition\n",
    "Singular-value decomposition is a dimensionality reduction method with applications in feature selection, visualization and noise reduction.\n",
    "\n",
    "### Latent semantic analysis\n",
    "Latent semantic analysis, also called latent semantic indexing, is a natural language processing method applied to document-term matrices (sparse representations of a text) and distill the representation down to its most relevant essence using matrix factorization methods such as singular-value decomposition.\n",
    "\n",
    "### Recommender systems\n",
    "The similarity between sparse customer behavior vectors leverages distance measures (e.g. Euclidean distance) or dot products. Matrix factorization methods such as single-value decomposition are used to distill user data to their essence for querying, searching and comparison.\n",
    "\n",
    "### Deep learning\n",
    "Artificial neural networks are nonlinear machine learning algorithms inspired by the way our brain processes information and have proved effective at a range of problems such as machine translation, photo captioning or speech recognition. Their execution leverages linear algebra structures (vectors, matrices and tensors of inputs and coefficients) multiplied and added together."
   ]
  },
  {
   "cell_type": "markdown",
   "id": "d284b3ea-e39d-4b13-9448-beaee007e579",
   "metadata": {},
   "source": [
    "## 04 - Introduction to NumPy arrays\n",
    "### NumPy n-dimensional array\n",
    "NumPy is the preferred Python tool for linear algebra operations:\n",
    "- the main structure is the `ndarray`, short for n-dimensional array\n",
    "- data in an `ndarray` is referred to as an array\n",
    "- data in an `ndarray` must be of the same type\n",
    "- the type of an `ndarray` can be retrieved using the argument `.dtype` on the array\n",
    "- the shape (ength of each dimension) of an `ndarray` can be retrieved using the argument `.shape` on the array\n",
    "- the function `array()` is used to create an `ndarray`"
   ]
  },
  {
   "cell_type": "code",
   "execution_count": 2,
   "id": "bbb45041-6caa-4193-b85a-586bb7e22c8b",
   "metadata": {},
   "outputs": [
    {
     "name": "stdout",
     "output_type": "stream",
     "text": [
      "array_int = [1 2 3]\n",
      "array_float = [1.09  2.87  3.654]\n",
      "array_mixed = [1.  2.5 3. ]\n",
      "\n",
      "Type of array_int: int64\n",
      "Type of array_float: float64\n",
      "Type of array_mixed: float64\n",
      "==> <array_mixed> was passed an array of mixed data types (integers and floats)\n",
      "and NumPy forced all the `ndarray` to a float dtype\n",
      "\n",
      "Shape of array_int: (3,)\n",
      "Shape of array_float: (3,)\n",
      "Shape of array_mixed: (3,)\n"
     ]
    }
   ],
   "source": [
    "import numpy as np\n",
    "#from collections.abc import Callable\n",
    "from typing import Callable, Union\n",
    "\n",
    "# Create arrays of integer, float and mixed types\n",
    "array_int = np.array([1, 2, 3])\n",
    "array_float = np.array([1.09, 2.87, 3.654])\n",
    "array_mixed = np.array([1, 2.5, 3])\n",
    "\n",
    "# Print arrays\n",
    "print(f\"array_int = {array_int}\")\n",
    "print(f\"array_float = {array_float}\")\n",
    "print(f\"array_mixed = {array_mixed}\")\n",
    "    \n",
    "# Get the shape of all arrays\n",
    "print(f\"\\nType of array_int: {array_int.dtype}\")\n",
    "print(f\"Type of array_float: {array_float.dtype}\")\n",
    "print(f\"\"\"Type of array_mixed: {array_mixed.dtype}\n",
    "==> <array_mixed> was passed an array of mixed data types (integers and floats)\n",
    "and NumPy forced all the `ndarray` to a float dtype\"\"\")\n",
    "\n",
    "# Get the type of all arrays\n",
    "print(f\"\\nShape of array_int: {array_int.shape}\")\n",
    "print(f\"Shape of array_float: {array_float.shape}\")\n",
    "print(f\"Shape of array_mixed: {array_mixed.shape}\")"
   ]
  },
  {
   "cell_type": "markdown",
   "id": "d9728057-70f4-47b0-b21d-fa7fabb5ed8f",
   "metadata": {},
   "source": [
    "### Functions to create arrays\n",
    "- `empty()` creates an array of random variables of the specified shape (NDH. the values are not really random, but rather uninitialized)\n",
    "- `zeros()` creates an array of zeros of the specified shape\n",
    "- `ones()` creates an array of ones variables of the specified shape"
   ]
  },
  {
   "cell_type": "code",
   "execution_count": 3,
   "id": "e75fd652-1eab-4aa0-8946-1d72fc22574c",
   "metadata": {},
   "outputs": [
    {
     "name": "stdout",
     "output_type": "stream",
     "text": [
      "array_empty =\n",
      "[[0.00000000e+000 0.00000000e+000 1.39067116e-309]\n",
      " [2.14263370e+160 5.92936410e-038 4.71865494e-090]\n",
      " [7.11289854e-038 1.38524311e-309 3.95252517e-322]]\n",
      "\n",
      "array_zeros =\n",
      "[[0. 0. 0. 0. 0.]\n",
      " [0. 0. 0. 0. 0.]\n",
      " [0. 0. 0. 0. 0.]]\n",
      "\n",
      "array_ones =\n",
      "[[1. 1. 1. 1. 1.]\n",
      " [1. 1. 1. 1. 1.]\n",
      " [1. 1. 1. 1. 1.]]\n"
     ]
    }
   ],
   "source": [
    "# Create arrays\n",
    "array_empty = np.empty([3,3])\n",
    "array_zeros = np.zeros([3,5])\n",
    "array_ones = np.ones([3,5])\n",
    "\n",
    "# Print arrays\n",
    "print(f\"array_empty =\\n{array_empty}\")\n",
    "print(f\"\\narray_zeros =\\n{array_zeros}\")\n",
    "print(f\"\\narray_ones =\\n{array_ones}\")"
   ]
  },
  {
   "cell_type": "code",
   "execution_count": 4,
   "id": "2ad99eb3-71b8-4855-8415-b37d5e5659eb",
   "metadata": {},
   "outputs": [],
   "source": [
    "# From scratch\n",
    "# Create arrays with values generated by a function\n",
    "import random\n",
    "import time\n",
    "random.seed(time.process_time())\n",
    "\n",
    "def create_array_with_func(m: int, n: int, function: Callable[..., Union[int, float]], *function_arguments) -> list:\n",
    "    \"\"\"Creates a matrix of size m x n with values generated by the function passed\n",
    "\n",
    "    Args:\n",
    "        m (int): the number of rows of the created matrix\n",
    "        n (int): the number of columns of the created matrix\n",
    "        function (function): the function to apply to generate the number\n",
    "\n",
    "    Returns:\n",
    "        list: a matrix of size m x n with values generated by the function passed\n",
    "    \"\"\"\n",
    "    array = []\n",
    "    for i in range(0, m):\n",
    "        array.append([])\n",
    "        for j in range(0, n):\n",
    "            array[i].append(function(*function_arguments))\n",
    "    return array"
   ]
  },
  {
   "cell_type": "code",
   "execution_count": 5,
   "id": "c69d93d5-8663-4cfe-8a25-384c6f85c281",
   "metadata": {},
   "outputs": [
    {
     "data": {
      "text/plain": [
       "array([[1.15888136, 3.72483512, 4.68046778],\n",
       "       [4.91495029, 1.92357603, 0.18129987],\n",
       "       [5.23504097, 6.88588151, 2.71385321]])"
      ]
     },
     "execution_count": 5,
     "metadata": {},
     "output_type": "execute_result"
    }
   ],
   "source": [
    "# Implement empty() from scratch\n",
    "np.array(create_array_with_func(3, 3, np.random.uniform, 0, 7))"
   ]
  },
  {
   "cell_type": "code",
   "execution_count": 6,
   "id": "6732ba27-cad0-4f50-982f-44159cb8587d",
   "metadata": {},
   "outputs": [
    {
     "data": {
      "text/plain": [
       "array([[0., 0., 0., 0., 0.],\n",
       "       [0., 0., 0., 0., 0.],\n",
       "       [0., 0., 0., 0., 0.]])"
      ]
     },
     "execution_count": 6,
     "metadata": {},
     "output_type": "execute_result"
    }
   ],
   "source": [
    "# Implement zeros() from scratch\n",
    "np.array(create_array_with_func(3, 5, lambda x: 0., None))"
   ]
  },
  {
   "cell_type": "code",
   "execution_count": 7,
   "id": "f5f688c3-4f90-449c-ba6f-9c6d56f6bfac",
   "metadata": {},
   "outputs": [
    {
     "data": {
      "text/plain": [
       "array([[1., 1., 1., 1., 1.],\n",
       "       [1., 1., 1., 1., 1.],\n",
       "       [1., 1., 1., 1., 1.]])"
      ]
     },
     "execution_count": 7,
     "metadata": {},
     "output_type": "execute_result"
    }
   ],
   "source": [
    "# Implement ones() from scratch\n",
    "np.array(create_array_with_func(3, 5, lambda x: 1., None))"
   ]
  },
  {
   "cell_type": "markdown",
   "id": "79ca86bd-6fa9-4da8-a108-9a69b4948c15",
   "metadata": {},
   "source": [
    "### Combining arrays\n",
    "Arrays can be stacked:\n",
    "- vertically using `vstack()`: given two one-dimensional arrays of the same length, you get a new two-dimensional array with two rows\n",
    "- horizontally using `hstack()`: given two one-dimensional arrays of potentially similar length, you get a new one-dimensional array"
   ]
  },
  {
   "cell_type": "code",
   "execution_count": 8,
   "id": "f931081a-eb3c-40bf-88d4-d915d61245d3",
   "metadata": {},
   "outputs": [
    {
     "name": "stdout",
     "output_type": "stream",
     "text": [
      "Same length:\n",
      "Vertical stack\n",
      "[[1 2 3]\n",
      " [4 5 6]]\n",
      "\n",
      "Horizontal stack\n",
      "[1 2 3 4 5 6]\n",
      "\n",
      "Different length:\n",
      "Vertical stack\n",
      "ValueError: all the input array dimensions for the concatenation axis must match exactly, but along dimension 1, the array at index 0 has size 3 and the array at index 1 has size 4\n",
      "\n",
      "Horizontal stack\n",
      "[1 2 3 4 5 6 7]\n"
     ]
    }
   ],
   "source": [
    "# Same length\n",
    "print(\"Same length:\")\n",
    "# Creating arrays\n",
    "array_s01 = np.array([1, 2, 3])\n",
    "array_s02 = np.array([4, 5, 6])\n",
    "\n",
    "# Stacking\n",
    "stack_sv = np.vstack([array_s01, array_s02])\n",
    "stack_sh = np.hstack([array_s01, array_s02])\n",
    "\n",
    "# Printing results\n",
    "print(f\"Vertical stack\\n{stack_sv}\")\n",
    "print(f\"\\nHorizontal stack\\n{stack_sh}\")\n",
    "\n",
    "# Different length\n",
    "print(\"\\nDifferent length:\")\n",
    "# Creating arrays\n",
    "array_d01 = np.array([1, 2, 3])\n",
    "array_d02 = np.array([4, 5, 6, 7])\n",
    "\n",
    "# Stacking\n",
    "print(f\"Vertical stack\")\n",
    "try:\n",
    "    stack_dv = np.vstack([array_d01, array_d02])\n",
    "    print(stack_dv)\n",
    "except ValueError as e:\n",
    "    print(f\"ValueError: {e}\")\n",
    "stack_dh = np.hstack([array_d01, array_d02])\n",
    "\n",
    "# Printing results\n",
    "print(f\"\\nHorizontal stack\\n{stack_dh}\")"
   ]
  },
  {
   "cell_type": "code",
   "execution_count": 9,
   "id": "288a0a41-6a92-4101-ab79-4a1c10c39279",
   "metadata": {},
   "outputs": [],
   "source": [
    "# From scratch\n",
    "def stack_arrays(stack_type: str, arrays) -> list:\n",
    "    output = []\n",
    "    it = iter(arrays)\n",
    "    length = len(next(it))\n",
    "    \n",
    "    if stack_type == \"h\":\n",
    "        for array in arrays:\n",
    "            for item in array:\n",
    "                output.append(item)\n",
    "    elif stack_type == \"v\":\n",
    "        # Check if no array has a different dimension than the first one\n",
    "        if any(len(l) != length for l in it):\n",
    "            return(\"Can't vertically stack arrays of different dimensions.\")\n",
    "        else:\n",
    "            for array in arrays:\n",
    "                output.append(array)\n",
    "            \n",
    "    return np.array(output)"
   ]
  },
  {
   "cell_type": "code",
   "execution_count": 10,
   "id": "d0ffcf63-fd37-4c60-ba82-ba631829a173",
   "metadata": {},
   "outputs": [
    {
     "name": "stdout",
     "output_type": "stream",
     "text": [
      "Same length:\n",
      "Vertical stack\n",
      "[[1 2 3]\n",
      " [4 5 6]]\n",
      "\n",
      "Horizontal stack\n",
      "[1 2 3 4 5 6]\n",
      "\n",
      "Different length:\n",
      "Vertical stack\n",
      "Can't vertically stack arrays of different dimensions.\n",
      "\n",
      "Horizontal stack\n",
      "[1 2 3 4 5 6 7]\n"
     ]
    }
   ],
   "source": [
    "# Same length\n",
    "print(\"Same length:\")\n",
    "# Creating arrays\n",
    "array_s01 = [1, 2, 3]\n",
    "array_s02 = [4, 5, 6]\n",
    "\n",
    "# Stacking\n",
    "stack_sv = stack_arrays(\"v\", [array_s01, array_s02])\n",
    "stack_sh = stack_arrays(\"h\", [array_s01, array_s02])\n",
    "\n",
    "# Printing results\n",
    "print(f\"Vertical stack\\n{stack_sv}\")\n",
    "print(f\"\\nHorizontal stack\\n{stack_sh}\")\n",
    "\n",
    "# Different length\n",
    "print(\"\\nDifferent length:\")\n",
    "# Creating arrays\n",
    "array_d01 = np.array([1, 2, 3])\n",
    "array_d02 = np.array([4, 5, 6, 7])\n",
    "\n",
    "stack_dv = stack_arrays(\"v\", [array_d01, array_d02])\n",
    "stack_dh = stack_arrays(\"h\", [array_d01, array_d02])\n",
    "\n",
    "print(f\"Vertical stack\\n{stack_dv}\")\n",
    "print(f\"\\nHorizontal stack\\n{stack_dh}\")"
   ]
  },
  {
   "cell_type": "markdown",
   "id": "4659894e-8df2-4fa5-a363-58ff426a6b48",
   "metadata": {},
   "source": [
    "## 05 - Index, slice and reshape NumPy arrays\n",
    "Machine learning data is represented as arrays - and in Python, almost always as NumPy arrays.\n",
    "\n",
    "### From list to arrays\n",
    "#### One-dimensional list to array\n",
    "- the `array()` function can convert a one-dimensional Python list to a NumPy array"
   ]
  },
  {
   "cell_type": "code",
   "execution_count": 11,
   "id": "e41e719c-dabc-4895-a1f9-05408cf6cc96",
   "metadata": {},
   "outputs": [
    {
     "name": "stdout",
     "output_type": "stream",
     "text": [
      "NumPy array:\n",
      "[11 22 33 44 55]\n",
      "NumPy array type: <class 'numpy.ndarray'>\n",
      "NumPy array data type: int64\n",
      "Shape: (5,)\n"
     ]
    }
   ],
   "source": [
    "# Create Python list\n",
    "python_list = [11, 22, 33, 44, 55]\n",
    "\n",
    "# Create NumPy array\n",
    "numpy_array = np.array(python_list)\n",
    "\n",
    "# Print results\n",
    "print(f\"NumPy array:\\n{numpy_array}\")\n",
    "print(f\"NumPy array type: {type(numpy_array)}\")\n",
    "print(f\"NumPy array data type: {numpy_array.dtype}\")\n",
    "print(f\"Shape: {numpy_array.shape}\")"
   ]
  },
  {
   "cell_type": "markdown",
   "id": "c8266ab5-96fe-4aab-973a-f4fa00655afd",
   "metadata": {},
   "source": [
    "#### Two-dimensional list to array\n",
    "Two-dimensional data is more likely in machine learning: it corresponds to a table where rows represent observations and columns represent features.\n",
    "\n",
    "You can convert a list of lists where each list is a new observation to a NumPy array using the `array()` function as well."
   ]
  },
  {
   "cell_type": "code",
   "execution_count": 12,
   "id": "4d4b0a4a-1f35-406b-a871-805fb512bea0",
   "metadata": {},
   "outputs": [
    {
     "name": "stdout",
     "output_type": "stream",
     "text": [
      "NumPy array:\n",
      "[[11 22]\n",
      " [33 44]\n",
      " [55 66]]\n",
      "NumPy array type: <class 'numpy.ndarray'>\n",
      "NumPy array data type: int64\n",
      "Shape: (3, 2)\n"
     ]
    }
   ],
   "source": [
    "# Create Python list\n",
    "python_list = [[11, 22],\n",
    "               [33, 44],\n",
    "               [55, 66]]\n",
    "\n",
    "# Create NumPy array\n",
    "numpy_array = np.array(python_list)\n",
    "\n",
    "# Print results\n",
    "print(f\"NumPy array:\\n{numpy_array}\")\n",
    "print(f\"NumPy array type: {type(numpy_array)}\")\n",
    "print(f\"NumPy array data type: {numpy_array.dtype}\")\n",
    "print(f\"Shape: {numpy_array.shape}\")"
   ]
  },
  {
   "cell_type": "markdown",
   "id": "13252c43-1234-4e81-8de0-0b27f03791b3",
   "metadata": {},
   "source": [
    "### Array indexing\n",
    "You can access data in a NumPy array using indexing.\n",
    "\n",
    "#### One-dimensional indexing\n",
    "Indexing works like in Python, using:\n",
    "- the square bracket operators (`[]`)\n",
    "- a zero-offset index for the value to retrieve\n",
    "- a negative indexes to retrieve values offset from the end of the array"
   ]
  },
  {
   "cell_type": "code",
   "execution_count": 13,
   "id": "6fe16c11-117d-414c-be47-b558948a59b6",
   "metadata": {},
   "outputs": [
    {
     "name": "stdout",
     "output_type": "stream",
     "text": [
      "Value at 1st position (index 0): 11\n",
      "Value at 5th position (index 4): 55\n",
      "Value at 4th position (index -2): 44\n"
     ]
    }
   ],
   "source": [
    "# Create NumPy array\n",
    "python_list = [11, 22, 33, 44, 55]\n",
    "numpy_array = np.array(python_list)\n",
    "\n",
    "# Get data at 1st and 5th position\n",
    "print(f\"Value at 1st position (index 0): {numpy_array[0]}\")\n",
    "print(f\"Value at 5th position (index 4): {numpy_array[4]}\")\n",
    "print(f\"Value at 4th position (index -2): {numpy_array[-2]}\")"
   ]
  },
  {
   "cell_type": "code",
   "execution_count": 14,
   "id": "01867fc6-197c-4777-817f-89025af6ca0f",
   "metadata": {},
   "outputs": [
    {
     "name": "stdout",
     "output_type": "stream",
     "text": [
      "Value at 1st position (index 0): 11\n",
      "Value at 5th position (index 4): 55\n",
      "Value at 4th position (index -2): 44\n"
     ]
    }
   ],
   "source": [
    "# From scratch\n",
    "python_list = [11, 22, 33, 44, 55]\n",
    "\n",
    "# Get data at 1st and 5th position\n",
    "print(f\"Value at 1st position (index 0): {python_list[0]}\")\n",
    "print(f\"Value at 5th position (index 4): {python_list[4]}\")\n",
    "print(f\"Value at 4th position (index -2): {python_list[-2]}\")"
   ]
  },
  {
   "cell_type": "markdown",
   "id": "ee52d710-b797-4af8-aee8-fab0107423e2",
   "metadata": {},
   "source": [
    "#### Two-dimensional indexing\n",
    "- indexing two-dimensional data is similar to indexing one-dimensional data, except that a comma is used to separate the index for each dimension\n",
    "- the column index value can be left blank to select all columns for the given row"
   ]
  },
  {
   "cell_type": "code",
   "execution_count": 15,
   "id": "238cc852-3e6f-4926-b392-2206f187ae78",
   "metadata": {},
   "outputs": [
    {
     "name": "stdout",
     "output_type": "stream",
     "text": [
      "Value at 1st row, 2nd column ([0, 1]): 22\n",
      "Value at 3rd row, 1st column ([2, 0]): 55\n",
      "All values of 2nd row ([0,]): [33 44]\n"
     ]
    }
   ],
   "source": [
    "# Create Python list\n",
    "python_list = [[11, 22],\n",
    "               [33, 44],\n",
    "               [55, 66]]\n",
    "\n",
    "# Create NumPy array\n",
    "numpy_array = np.array(python_list)\n",
    "\n",
    "# Get data in first row, second column third row, first column\n",
    "print(f\"Value at 1st row, 2nd column ([0, 1]): {numpy_array[0, 1]}\")\n",
    "print(f\"Value at 3rd row, 1st column ([2, 0]): {numpy_array[2, 0]}\")\n",
    "print(f\"All values of 2nd row ([0,]): {numpy_array[1,]}\")"
   ]
  },
  {
   "cell_type": "code",
   "execution_count": 16,
   "id": "e6924fbb-fa5b-48d7-bab5-c593066e24d9",
   "metadata": {},
   "outputs": [],
   "source": [
    "# From scratch\n",
    "def get_value_from_index(indexes: list, arrays: list):\n",
    "    if indexes[0] == \",\":\n",
    "        return arrays\n",
    "    elif len(indexes) == 1:\n",
    "        return arrays[indexes[0]]\n",
    "    else:\n",
    "        return get_value_from_index(indexes[1:], arrays[indexes[0]])\n",
    "        "
   ]
  },
  {
   "cell_type": "code",
   "execution_count": 17,
   "id": "2df2c99a-ea50-4399-8503-bd6f109d6bcb",
   "metadata": {},
   "outputs": [
    {
     "name": "stdout",
     "output_type": "stream",
     "text": [
      "Value at 1st row, 2nd column ([0, 1]): 22\n",
      "Value at 3rd row, 1st column ([2, 0]): 55\n",
      "All values of 2nd row ([0,]): [33, 44]\n",
      "Value at 1st 1d, 2nd 2d, 2nd 3d ([0, 1, 1]): 34\n",
      "Value at 3rd 1d ([2,]): [[55, 14], [66, 36]]\n"
     ]
    }
   ],
   "source": [
    "# Two dimensions\n",
    "python_list = [[11, 22],\n",
    "               [33, 44],\n",
    "               [55, 66]]\n",
    "print(f\"Value at 1st row, 2nd column ([0, 1]): {get_value_from_index([0, 1], python_list)}\")\n",
    "print(f\"Value at 3rd row, 1st column ([2, 0]): {get_value_from_index([2, 0], python_list)}\")\n",
    "print(f\"All values of 2nd row ([0,]): {get_value_from_index([1, ','], python_list)}\")\n",
    "\n",
    "# n dimensions\n",
    "python_list = [[[11, 12], [22, 34]],\n",
    "               [[33, 13], [44, 35]],\n",
    "               [[55, 14], [66, 36]]]\n",
    "\n",
    "print(f\"Value at 1st 1d, 2nd 2d, 2nd 3d ([0, 1, 1]): {get_value_from_index([0, 1, 1], python_list)}\")\n",
    "print(f\"Value at 3rd 1d ([2,]): {get_value_from_index([2, ','], python_list)}\")"
   ]
  },
  {
   "cell_type": "markdown",
   "id": "6416a16f-01a9-411c-a50e-521bd0ad5036",
   "metadata": {},
   "source": [
    "### Array slicing\n",
    "The slice extends from the *from* index and ends one item before the *to* index: `data[from:to]`.\n",
    "\n",
    "#### One-dimensional slicing\n",
    "All data in an array dimension can be selected by specifying the slice with no indexes: `:`."
   ]
  },
  {
   "cell_type": "code",
   "execution_count": 18,
   "id": "1b0bc042-1424-4d59-84b2-53ae5c845066",
   "metadata": {},
   "outputs": [
    {
     "name": "stdout",
     "output_type": "stream",
     "text": [
      "Selecting all data with `:`:\n",
      "[11 22 33 44 55]\n"
     ]
    }
   ],
   "source": [
    "# Create NumPy array\n",
    "python_list = [11, 22, 33, 44, 55]\n",
    "numpy_array = np.array(python_list)\n",
    "\n",
    "# Get all data using a slice with no indexes\n",
    "print(f\"Selecting all data with `:`:\\n{numpy_array[:]}\")"
   ]
  },
  {
   "cell_type": "code",
   "execution_count": 19,
   "id": "edb4a732-fe1a-4a59-9864-eb75e11fe5fb",
   "metadata": {},
   "outputs": [
    {
     "name": "stdout",
     "output_type": "stream",
     "text": [
      "Selecting all data with `:`:\n",
      "[11 22 33 44 55]\n"
     ]
    }
   ],
   "source": [
    "# From scratch\n",
    "python_list = [11, 22, 33, 44, 55]\n",
    "print(f\"Selecting all data with `:`:\\n{np.array(python_list[:])}\")"
   ]
  },
  {
   "cell_type": "markdown",
   "id": "0bb6f59f-c3ff-4d55-a436-7af0bcb7c705",
   "metadata": {},
   "source": [
    "#### Two-dimensional slicing\n",
    "It is common to split your data into input variables $X$ and output variable $y$.\n",
    "\n",
    "\n",
    "This can be done using slicing:\n",
    "- we can select all rows and all columns except the last one by specifying `:` in the rows index and `:-1` in the columns index\n",
    "- we can select all rows and the last column by specifying `:` in the rows index and `-1` in the columns index."
   ]
  },
  {
   "cell_type": "code",
   "execution_count": 20,
   "id": "8f37c7c5-956d-44ea-81e4-2878c62bef6b",
   "metadata": {},
   "outputs": [
    {
     "name": "stdout",
     "output_type": "stream",
     "text": [
      "Inputs X:\n",
      "[[11 22]\n",
      " [44 55]\n",
      " [77 88]]\n",
      "Outputs y:\n",
      "[33 66 99]\n"
     ]
    }
   ],
   "source": [
    "# Create Python list\n",
    "python_list = [[11, 22, 33],\n",
    "               [44, 55, 66],\n",
    "               [77, 88, 99]]\n",
    "\n",
    "# Create NumPy array\n",
    "numpy_array = np.array(python_list)\n",
    "\n",
    "# Get inputs\n",
    "inputs_X = numpy_array[:, :-1]\n",
    "output_y = numpy_array[:, -1]\n",
    "\n",
    "# Print results\n",
    "print(f\"Inputs X:\\n{inputs_X}\")\n",
    "print(f\"Outputs y:\\n{output_y}\")"
   ]
  },
  {
   "cell_type": "code",
   "execution_count": 179,
   "id": "0552a39c-bd4f-4d5f-a221-35eb478223de",
   "metadata": {},
   "outputs": [
    {
     "name": "stdout",
     "output_type": "stream",
     "text": [
      "Added [11, 22]\n",
      "Added [44, 55]\n",
      "Added [77, 88]\n",
      "Added 33\n",
      "Added 66\n",
      "Added 99\n",
      "Inputs X:\n",
      "[[11 22]\n",
      " [44 55]\n",
      " [77 88]]\n",
      "Outputs y:\n",
      "[33 66 99]\n",
      "Added 12\n",
      "Added 13\n",
      "Added 14\n",
      "Added 34\n",
      "Added 35\n",
      "Added 36\n",
      "Inputs X:\n",
      "[12 13 14]\n",
      "Outputs y:\n",
      "[34 35 36]\n"
     ]
    }
   ],
   "source": [
    "# From scratch\n",
    "# Getting slices to slice each array\n",
    "def get_slice(array, index):\n",
    "    if index.startswith(\":\"):\n",
    "        if len(index)==1:\n",
    "            index_start = 0\n",
    "            index_end = len(array)\n",
    "        else:\n",
    "            index_start = 0\n",
    "            index_end = int(index[1:])\n",
    "    elif index.endswith(\":\"):\n",
    "        index_start = int(index[:-1])\n",
    "        index_end = len(index)\n",
    "    elif \":\" in index:\n",
    "        index_start, index_end = [int(i) for i in index.split(\":\")]\n",
    "    elif \"-\" in index:\n",
    "        index_start = int(index)\n",
    "        index_end = len(array) - int(index)\n",
    "    else:\n",
    "        index_start = int(index)\n",
    "        index_end = int(index) + 1\n",
    "    return slice(index_start, index_end, 1)\n",
    "\n",
    "# Getting slices to slice each array\n",
    "# Tested on 2D and 3D arrays\n",
    "def slice_array(output, arrays, *indexes):\n",
    "    if len(indexes) >= 2:\n",
    "        for array in arrays[get_slice(arrays, indexes[0])]:        \n",
    "            slice_array(output, array[get_slice(array, indexes[1])], *indexes[2:])\n",
    "    elif type(arrays[0]) == list:\n",
    "        if len(arrays) > 1:\n",
    "            output.append(arrays[0][get_slice(arrays[0], indexes[0])])\n",
    "            print(f\"Added {arrays[0][get_slice(arrays[0], indexes[0])]}\")\n",
    "        else:\n",
    "            output.append(arrays[0][get_slice(arrays[0], indexes[0])][0])\n",
    "            print(f\"Added {arrays[0][get_slice(arrays[0], indexes[0])][0]}\")\n",
    "\n",
    "    elif type(arrays[0]) == int:\n",
    "        if len(arrays) > 1:\n",
    "            output.append(arrays)\n",
    "            print(f\"Added {arrays}\")\n",
    "        else:\n",
    "            output.append(arrays[0])\n",
    "            print(f\"Added {arrays[0]}\")\n",
    "            \n",
    "    return output\n",
    "    \n",
    "\n",
    "# Testing for 2D arrays\n",
    "python_list = [[11, 22, 33],\n",
    "               [44, 55, 66],\n",
    "               [77, 88, 99]]\n",
    "\n",
    "inputs_X = np.array(slice_array([], python_list, \":\", \":-1\", \"1\"))\n",
    "output_y = np.array(slice_array([], python_list, \":\", \"-1\", \"1\"))\n",
    "\n",
    "# Print results\n",
    "print(f\"Inputs X:\\n{inputs_X}\")\n",
    "print(f\"Outputs y:\\n{output_y}\")\n",
    "\n",
    "\n",
    "# Testing for 3D arrays\n",
    "python_list = [[[11, 12], [22, 34]],\n",
    "               [[33, 13], [44, 35]],\n",
    "               [[55, 14], [66, 36]]]\n",
    "\n",
    "inputs_X = np.array(slice_array([], python_list, \":\", \":-1\", \"1\"))\n",
    "output_y = np.array(slice_array([], python_list, \":\", \"-1\", \"1\"))\n",
    "\n",
    "# Print results\n",
    "print(f\"Inputs X:\\n{np.array(inputs_X)}\")\n",
    "print(f\"Outputs y:\\n{np.array(output_y)}\")"
   ]
  },
  {
   "cell_type": "markdown",
   "id": "fed8c5fd-5a43-41a9-9281-440f722a01e1",
   "metadata": {},
   "source": [
    "#### Split train and test rows\n",
    "It is common to split a loaded dataset into separate training and testing sets.\n",
    "\n",
    "In NumPy, this can be done:\n",
    "- you can select the training dataset slicing all columns by specifying `:` in the second dimension index: `train = data[:split, :]`\n",
    "- you can select the testing dataset slicing all columns by specifying `:` in the second dimension index: `train = data[split:, :]`"
   ]
  },
  {
   "cell_type": "code",
   "execution_count": 182,
   "id": "1ec1d532-26a6-47a3-afae-e913aba2aec8",
   "metadata": {},
   "outputs": [
    {
     "name": "stdout",
     "output_type": "stream",
     "text": [
      "Train:\n",
      "[[11 22 33]\n",
      " [44 55 66]]\n",
      "Test:\n",
      "[[77 88 99]]\n"
     ]
    }
   ],
   "source": [
    "# Create Python list\n",
    "python_list = [[11, 22, 33],\n",
    "               [44, 55, 66],\n",
    "               [77, 88, 99]]\n",
    "\n",
    "# Create NumPy array\n",
    "numpy_array = np.array(python_list)\n",
    "\n",
    "# Split into train and test sets\n",
    "split = 2\n",
    "train = numpy_array[:split, :]\n",
    "test = numpy_array[split:, :]\n",
    "\n",
    "# Print results\n",
    "print(f\"Train:\\n{train}\")\n",
    "print(f\"Test:\\n{test}\")"
   ]
  },
  {
   "cell_type": "code",
   "execution_count": 181,
   "id": "e21aad31-55c6-45a1-bdd9-f8f8c6303e1d",
   "metadata": {},
   "outputs": [
    {
     "name": "stdout",
     "output_type": "stream",
     "text": [
      "Train:\n",
      "[[11 22 33]\n",
      " [44 55 66]]\n",
      "Test:\n",
      "[[77 88 99]]\n"
     ]
    }
   ],
   "source": [
    "# From scratch\n",
    "# Define split_train_test() function\n",
    "def split_train_test(table: list, threshold: int):\n",
    "    train = table[:threshold]\n",
    "    test = table[threshold:]\n",
    "    return train, test\n",
    "\n",
    "# Create Python list\n",
    "python_list = [[11, 22, 33],\n",
    "               [44, 55, 66],\n",
    "               [77, 88, 99]]\n",
    "\n",
    "# Split into train and test sets\n",
    "threshold = 2\n",
    "train, test = split_train_test(python_list, threshold)\n",
    "\n",
    "# Print results\n",
    "print(f\"Train:\\n{np.array(train)}\")\n",
    "print(f\"Test:\\n{np.array(test)}\")"
   ]
  },
  {
   "cell_type": "markdown",
   "id": "dd9488d0-50c6-4ba5-9e6c-4990199a029f",
   "metadata": {},
   "source": [
    "### Array reshaping\n",
    "You may need to reshape your data. Some libraries like scikit-learn require that a one-dimensional array of output variables ($y$) be shaped as a two-dimensional array with one column and outcomes for each column. Some algorithms like the long short-term memory recurrent neural network in Keras require inputs to be specified as a three-dimensional array representing samples, timesteps and features.\n",
    "\n",
    "#### Data shape\n",
    "The `shape` attribute returns a tuple of the length of each dimension of the array.\n",
    "\n",
    "NDH: Shapes are returned from the outer list to the inner lists."
   ]
  },
  {
   "cell_type": "code",
   "execution_count": null,
   "id": "d023a9b8-364e-4257-b0b7-9895a15435e5",
   "metadata": {},
   "outputs": [],
   "source": [
    "# Create NumPy arrays\n",
    "array_01 = np.array([1, 2, 3, 4, 5])\n",
    "array_02 = np.array([[1, 2, 3, 4, 5],\n",
    "                     [6, 7, 8, 9, 10]])\n",
    "array_03 = np.array([[[1, 2, 3, 4, 5], [6, 7, 8, 9, 10]],\n",
    "                     [[11, 12, 13, 14, 15], [16, 17, 18, 19, 20]],\n",
    "                     [[21, 22, 23, 24, 25], [26, 27, 28, 29, 30]]])\n",
    "\n",
    "# Print shapes\n",
    "print(f\"Shape of array_01:\\n{array_01.shape}\")\n",
    "print(f\"Shape of array_02:\\n{array_02.shape}\")\n",
    "print(f\"corresponding to:\\nRows:{array_02.shape[0]}\\nColumns:{array_02.shape[1]}\")\n",
    "print(f\"Shape of array_03:\\n{array_03.shape}\")"
   ]
  },
  {
   "cell_type": "markdown",
   "id": "1661b8cb-eee4-42ae-9925-12195ecb9fec",
   "metadata": {},
   "source": [
    "#### Reshape 1D to 2D array\n",
    "It is common to need to reshape a one-dimensional array into a two-dimensional array with one column and multiple arrays:\n",
    "- the `reshape()` function takes a single argument that specifies the new shape of the array\n",
    "- this single argument is a tuple with the shape of the array as the first dimension and 1 for the second dimension"
   ]
  },
  {
   "cell_type": "code",
   "execution_count": null,
   "id": "7ba8be0e-6ab9-4973-9cc2-b9c6a0e069b0",
   "metadata": {},
   "outputs": [],
   "source": [
    "# Create NumPy arrays\n",
    "array_01 = np.array([1, 2, 3, 4, 5])\n",
    "\n",
    "# Print original shape\n",
    "print(f\"Original shape: {array_01.shape}\")\n",
    "\n",
    "# Reshape NumPy array\n",
    "array_01 = array_01.reshape((array_01.shape[0], 1))\n",
    "\n",
    "# Print new shape\n",
    "print(f\"New shape: {array_01.shape}\")"
   ]
  },
  {
   "cell_type": "markdown",
   "id": "b38c348f-2502-465d-bf5a-ff75ab05f96c",
   "metadata": {},
   "source": [
    "#### Reshape 2D to 3D array\n",
    "It is common to need to reshape two-dimensional data where each row represents a sequence into a three-dimensional array for algorithms that expect multiple samples of one or more timesteps and one or more features."
   ]
  },
  {
   "cell_type": "code",
   "execution_count": null,
   "id": "b2eacf46-d4fd-4882-a0b7-57b4b25872d5",
   "metadata": {},
   "outputs": [],
   "source": [
    "# Create NumPy array\n",
    "array_01 = np.array([[1, 2, 3, 4, 5],\n",
    "                     [6, 7, 8, 9, 10]])\n",
    "\n",
    "# Print original shape\n",
    "print(f\"Original shape: {array_01.shape}\")\n",
    "\n",
    "# Reshape NumPy array\n",
    "array_01 = array_01.reshape((array_01.shape[0], array_01.shape[1], 1))\n",
    "\n",
    "# Print new shape\n",
    "print(f\"New shape: {array_01.shape}\")"
   ]
  },
  {
   "cell_type": "markdown",
   "id": "0e1cd5f1-c4d1-46cc-ae6d-dcf6581af753",
   "metadata": {},
   "source": [
    "## 06 - NumPy array broadcasting\n",
    "Arrays with different sizes cannot be added, subtracted or generally used in arithmetic. NumPy overcomes this with array **broadcasting**: duplicating the smaller array so that it has the dimensionality and size of the larger array.\n",
    "\n",
    "### Limitation with array arithmetic\n",
    "You can perform array arithmetic such as addition and subtraction on NumPy arrays:\n",
    "- two arrays can be added together\n",
    "- values at each index are added together\n",
    "- arithmetic can only be performed on arrays that have the same dimensions and dimensions with the same size"
   ]
  },
  {
   "cell_type": "code",
   "execution_count": 186,
   "id": "b27b1e15-132a-425c-90bd-36d3f95649e0",
   "metadata": {},
   "outputs": [
    {
     "name": "stdout",
     "output_type": "stream",
     "text": [
      "[2 4 6]\n"
     ]
    }
   ],
   "source": [
    "# Create arrays\n",
    "array_01 = np.array([1, 2, 3])\n",
    "array_02 = np.array([1, 2, 3])\n",
    "\n",
    "# Print sum\n",
    "print(array_01 + array_02)"
   ]
  },
  {
   "cell_type": "code",
   "execution_count": 195,
   "id": "0ba81de8-cc7b-4076-adaf-37f4dd54a89c",
   "metadata": {},
   "outputs": [
    {
     "name": "stdout",
     "output_type": "stream",
     "text": [
      "[2 4 6]\n"
     ]
    }
   ],
   "source": [
    "# From scratch\n",
    "# Create arrays\n",
    "list_01 = [1, 2, 3]\n",
    "list_02 = [1, 2, 3]\n",
    "\n",
    "# Print sum\n",
    "output = [list_01[i] + list_02[i] for i in range(len(list_01))]\n",
    "print(np.array(output))"
   ]
  },
  {
   "cell_type": "markdown",
   "id": "b471700d-e9b2-45b2-b117-e89de6ef0df8",
   "metadata": {},
   "source": [
    "### Array broadcasting"
   ]
  },
  {
   "cell_type": "markdown",
   "id": "f976dc3f-2415-4e22-803c-096f38c17a44",
   "metadata": {},
   "source": [
    "Broadcasting allows array arithmetic between arrays with a different shape or size. The technique was developed for NumPy but has since been adopted by other libraries such as Theano, TensorFlow and Octave.\n",
    "\n",
    "### Broadcasting in NumPy\n",
    "#### Scalar and one-dimensional array\n",
    "If we have a one-dimensional array and a scalar $b$, then $b$ is broadcast across the one-dimensional array by duplicating it as many times as possible:"
   ]
  },
  {
   "cell_type": "code",
   "execution_count": 191,
   "id": "89dd4cc5-6f7a-427a-9a6c-3d79eec1d583",
   "metadata": {},
   "outputs": [
    {
     "name": "stdout",
     "output_type": "stream",
     "text": [
      "[4 5 6]\n"
     ]
    }
   ],
   "source": [
    "# Create array and scalar\n",
    "array_01 = np.array([1, 2, 3])\n",
    "scalar_01 = 3\n",
    "\n",
    "# Print broadcast result\n",
    "print(array_01 + scalar_01)"
   ]
  },
  {
   "cell_type": "code",
   "execution_count": 192,
   "id": "81cab165-9383-47e6-9315-8f8762578514",
   "metadata": {},
   "outputs": [
    {
     "name": "stdout",
     "output_type": "stream",
     "text": [
      "[4 5 6]\n"
     ]
    }
   ],
   "source": [
    "# From scratch\n",
    "# Create array and scalar\n",
    "list_01 = [1, 2, 3]\n",
    "scalar_01 = 3\n",
    "\n",
    "# Print broadcast result\n",
    "output = []\n",
    "for item in list_01:\n",
    "    output.append(item + scalar_01)\n",
    "\n",
    "print(np.array(output))"
   ]
  },
  {
   "cell_type": "markdown",
   "id": "e93de7eb-fe09-4977-a9a7-0d824eda2181",
   "metadata": {},
   "source": [
    "#### Scalar and two-dimensional array"
   ]
  },
  {
   "cell_type": "markdown",
   "id": "99318e9c-215d-44d4-be0c-94ea887b5574",
   "metadata": {},
   "source": [
    "If we have a two-dimensional array and a scalar $b$, then $b$ is broadcast across all dimensions of the two-dimensional array by duplicating it as many times as possible:"
   ]
  },
  {
   "cell_type": "code",
   "execution_count": 193,
   "id": "1604c888-ad37-4fad-a257-22a4a4ab623e",
   "metadata": {},
   "outputs": [
    {
     "name": "stdout",
     "output_type": "stream",
     "text": [
      "[[4 5 6]\n",
      " [4 5 6]]\n"
     ]
    }
   ],
   "source": [
    "# Create array and scalar\n",
    "array_01 = np.array([[1, 2, 3],\n",
    "                     [1, 2, 3]])\n",
    "scalar_01 = 3\n",
    "\n",
    "# Print broadcast result\n",
    "print(array_01 + scalar_01)"
   ]
  },
  {
   "cell_type": "code",
   "execution_count": 194,
   "id": "6f9db0e8-b444-408f-b864-aafeec43945e",
   "metadata": {},
   "outputs": [
    {
     "name": "stdout",
     "output_type": "stream",
     "text": [
      "[[4 5 6]\n",
      " [4 5 6]]\n"
     ]
    }
   ],
   "source": [
    "# From scratch\n",
    "# Create array and scalar\n",
    "list_01 = [[1, 2, 3],\n",
    "           [1, 2, 3]]\n",
    "\n",
    "scalar_01 = 3\n",
    "\n",
    "# Print broadcast result\n",
    "output = []\n",
    "for array in list_01:\n",
    "    row = []\n",
    "    for item in array:\n",
    "        row.append(item + scalar_01)\n",
    "    output.append(row)\n",
    "\n",
    "print(np.array(output))"
   ]
  },
  {
   "cell_type": "markdown",
   "id": "c6780e89-437b-47fb-be02-a3eabfc0db78",
   "metadata": {},
   "source": [
    "#### One-dimensional and two-dimensional arrays\n",
    "If we have a one-dimensional array and a two-dimensional array, then the one-dimensional array is broadcast across each row of the two dimensional array by creating a second copy to result in a new two-dimensional array:"
   ]
  },
  {
   "cell_type": "code",
   "execution_count": 196,
   "id": "0b1da519-541f-46a8-9397-69658e978d6b",
   "metadata": {},
   "outputs": [
    {
     "name": "stdout",
     "output_type": "stream",
     "text": [
      "[[3 6 9]\n",
      " [3 6 9]]\n"
     ]
    }
   ],
   "source": [
    "# Create arrays\n",
    "array_01 = np.array([[1, 2, 3],\n",
    "                     [1, 2, 3]])\n",
    "array_02 = np.array([2, 4, 6])\n",
    "\n",
    "# Print broadcast result\n",
    "print(array_01 + array_02)"
   ]
  },
  {
   "cell_type": "code",
   "execution_count": 199,
   "id": "5f51d9f7-b55a-47c3-9906-72bc6e428182",
   "metadata": {},
   "outputs": [
    {
     "name": "stdout",
     "output_type": "stream",
     "text": [
      "[[3 6 9]\n",
      " [3 6 9]]\n"
     ]
    }
   ],
   "source": [
    "# From scratch\n",
    "# Create array and scalar\n",
    "list_01 = [[1, 2, 3],\n",
    "           [1, 2, 3]]\n",
    "list_02 = np.array([2, 4, 6])\n",
    "\n",
    "# Print broadcast result\n",
    "output = []\n",
    "for array in list_01:\n",
    "    row = []\n",
    "    for i in range(len(array)):\n",
    "        row.append(array[i] + list_02[i])\n",
    "    output.append(row)\n",
    "\n",
    "print(np.array(output))"
   ]
  },
  {
   "cell_type": "markdown",
   "id": "eaf218b4-fbcb-4caa-aae6-e405ee2d6a47",
   "metadata": {},
   "source": [
    "### Limitations of broadcasting\n",
    "Broadcasting doesn't work for all cases and imposes a strict rule for broadcasting to be performed:\n",
    "- the shape of each dimension in the arrays must be equal, or one has the dimension of size 1\n",
    "- the dimensions are considered in reverse order, starting with the trailing dimension (e.g. looking at columns before rows in a two-dimensional case)\n",
    "- NumPy will in effect pad missing dimensions with a size of 1 when comparing arrays (in the example below, the shape of `array_02` will effectively be interpreted by NumPy as `1, 3`"
   ]
  },
  {
   "cell_type": "code",
   "execution_count": null,
   "id": "0351fc52-72fa-4383-8372-24e53bfc6761",
   "metadata": {},
   "outputs": [],
   "source": [
    "# Create arrays\n",
    "array_01 = np.array([[1, 2, 3],\n",
    "                     [1, 2, 3]])\n",
    "array_02 = np.array([2, 4, 6])\n",
    "\n",
    "# Print arrays shapes\n",
    "print(array_01.shape)\n",
    "print(array_02.shape)"
   ]
  }
 ],
 "metadata": {
  "kernelspec": {
   "display_name": "Python 3 (ipykernel)",
   "language": "python",
   "name": "python3"
  },
  "language_info": {
   "codemirror_mode": {
    "name": "ipython",
    "version": 3
   },
   "file_extension": ".py",
   "mimetype": "text/x-python",
   "name": "python",
   "nbconvert_exporter": "python",
   "pygments_lexer": "ipython3",
   "version": "3.8.13"
  }
 },
 "nbformat": 4,
 "nbformat_minor": 5
}
