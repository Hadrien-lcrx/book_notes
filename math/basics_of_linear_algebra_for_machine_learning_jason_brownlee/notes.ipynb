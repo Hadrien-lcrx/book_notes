{
 "cells": [
  {
   "cell_type": "markdown",
   "id": "3e091d0c-3033-4106-9845-2ff92fd38929",
   "metadata": {},
   "source": [
    "# Basics of linear algebra for machine learning - Jason Brownlee"
   ]
  },
  {
   "cell_type": "markdown",
   "id": "2b028fdb-fa30-44d4-b36e-59dff81621ac",
   "metadata": {},
   "source": [
    "## 01 - Introduction to linear algebra\n",
    "### Linear algebra\n",
    "Linear algebra is about linear combinations: using arithmetic on columns of numbers (vectors) and arrays of numbers (matrices) to create new columns and arrays of numbers. It's been formalized in the 1800s to find unknowns in systems of linear equations. \n",
    "\n",
    "A linear equation is a series of terms and mathematical operations where some terms are unknown, for example:  \n",
    "$y = 4 x + 1$\n",
    "\n",
    "They are called linear equations because they describe a line on a two-dimensional graph. We can line up a system of equations with two or more unknowns:  \n",
    "- $y = 0.1 x_{1} + 0.4 x_{2}$  \n",
    "- $y = 0.3 x_{1} + 0.9 x_{2}$  \n",
    "- $y = 0.2 x_{1} + 0.3 x_{2}$\n",
    "\n",
    "where\n",
    "- the column of $y$ values is a column vector of outputs from the equation\n",
    "- the two columns of float values are the data columns $a_{1}$ and $a_{2}$ forming the matrix $A$\n",
    "- the two unknown values $x_{1}$ and $x_{2}$ are the coefficients of the equation and form a vector of unknowns $b$ to be solved\n",
    "\n",
    "summarized in linear algebra as  \n",
    "$y = A \\cdot b$\n",
    "\n",
    "Such problems are challenging to solve because:\n",
    "- there are usually more unknowns than there are equations to solve\n",
    "- no single line can satisfy all of the equations without error\n",
    "\n",
    "Interesting problems are often described by system with an infinite number of solutions. This is the core of linear algebra as it relates to machine learning. The rest of the operations are about making such problems easier to understand and solve.\n",
    "\n",
    "### Numerical linear algebra\n",
    "Implementations of vector and matrix operations were initially implemented in FORTRAN with libraries such as:\n",
    "- LAPACK\n",
    "- BLAS\n",
    "- ATLAS\n",
    "\n",
    "Popular packages used nowadays in Python for example build on top of these libraries.\n",
    "\n",
    "### Linear algebra and statistics\n",
    "- using vector and matrix notation (multivariate statistics)\n",
    "- solving least squares and weighted least squares (linear regression)\n",
    "- estimating means and variance of data matrices\n",
    "- using the covariance matrix (multinomial Gaussian distributions)\n",
    "- leveraging the concepts above for data reduction with principal component analysis\n",
    "\n",
    "### Applications of linear algebra\n",
    "- matrices in engineering (line of springs)\n",
    "- graphs and networks (graph analysis)\n",
    "- Markov matrices, population, economics (population growth)\n",
    "- linear programming (simplex optimization method)\n",
    "- Fourier series - linear algebra for functions (signal processing)\n",
    "- linear algebra for statistics and probabilities (least squares for regression)\n",
    "- computer graphics (translation, rescaling, rotation of images)"
   ]
  },
  {
   "cell_type": "markdown",
   "id": "0be1b683-0fa7-47bf-8f81-242afe2a145b",
   "metadata": {},
   "source": [
    "## 02 - Linear algebra and machine learning\n",
    "Linear algebra is the mathematics of data. Often recommended as a prerequisite to machine learning, it can make more sense to first build context of the applied machine learning process.\n",
    "\n",
    "### Reasons not to learn linear algebra\n",
    "- it's not required in order to use machine learning as a tool to solve problems\n",
    "- it's slow and might delay you achieving your goals\n",
    "- it's a huge field and not all of it is relevant to machine learning\n",
    "\n",
    "A breadth-first (results-first) approach can help build a skeleton and some context on which to build to deepen knowledge about how algorithms work or the math that underlies them.\n",
    "\n",
    "### Linear algebra notation\n",
    "You need to know how to read and write vector and matrix notation. It enables you to:\n",
    "- describe operations on data precisely\n",
    "- read descriptions of algorithms in textbooks\n",
    "- implement machine learning algorithms faster and more efficiently\n",
    "- interpret and implement new methods in research papers\n",
    "- describe your own methods to other practitioners\n",
    "\n",
    "### Linear algebra arithmetic\n",
    "You need to know how to perform arithmetic operations: add, subtract and multiply scalars, vectors and matrices. Matrix multiplication and tensor multiplication are often non-intuitive at first. Understanding vector and matrix operations is required to effectively read and write matrix notation.\n",
    "\n",
    "### Learn linear algebra for statistics\n",
    "Linear algebra is heavily used in multivariate statistics. To read and interpret statistics, you need to know the notation and operations of linear algebra, such as vectors used for means and variance, or covariance matrices describing the relationships between multiple Gaussian variables. Principal component analysis also leverages such methods.\n",
    "\n",
    "### Learn matrix factorization\n",
    "Matrix factorization, is also called matrix decomposition. You need to know how to factorize a matrix and what it means. Matrix factorization is necessary for more complex operations in linear algebra (matrix inverse) and machine learning (least squares). Different matrix factorization exist, such as singular-value decomposition. To read and interpret higher-order matrix operations, matrix factorization is required.\n",
    "\n",
    "### Learn linear least squares\n",
    "Matrix factorization can be used to solve linear least squares. Problems where there is no line able to fit the data without error can be solved using the least squares method, called linear least squares in linear algebra. Linear least squares are used in regression models, and in a range of machine learning algorithms.\n",
    "\n",
    "### One more reason\n",
    "Seeing how the operations work on real data will help you develop a strong intuition for the methods. You will experience knowledge buzz and mind-expanding moments."
   ]
  },
  {
   "cell_type": "markdown",
   "id": "93289202-5297-4059-9566-0b6aacc11209",
   "metadata": {},
   "source": [
    "## 03 - Examples of linear algebra in machine learning\n",
    "Linear algebra is concerned with vectors, matrices and linear transforms. It is foundational to machine learning from notations used to describe algorithms operation to their implementation in code. The relationship between linear algebra and machine learning is often left unexplained or abstract. Here are some examples of how linear algebra is leveraged in machine learning.\n",
    "\n",
    "### Dataset and data files\n",
    "Data is a matrix, which can be split into inputs (a matrix $X$) and outputs (a vector $y$. Each row has the same length (same number of columns): the data is vectorized and can be passed to a model one by one or in batch. The model can be pre-configured to expect rows of a fixed width.\n",
    "\n",
    "### Images and photographs\n",
    "An image is a table structure with a width and height and one-pixel value in each cell for black and white images or three pixel values (red, green and blue) for color images. Operations such as cropping, scaling, shearing are described using linear algebra notations and operations.\n",
    "\n",
    "### One hot encoding\n",
    "Categorical data can be one hot encoded so they are easier to work with and learn from by some machine learning techniques. One column is created for each category and a row for each example (e.g. if the categories are red, green and blue, we create a red column, a green column and a blue column). For each row in the dataset, we enter 1 in the column corresponding to the category and 0 in the others. Each row is encoded as a binary vector (0 or 1), which is an example of sparse representation.\n",
    "\n",
    "### Linear regression\n",
    "Linear regression is used to describe the relationship between variables. Solving the linear regression problem means finding a set of coefficients that gives the best prediction of the output variable when multiplied by each of the input variable and added together. It is usually solved using least squares optimization leveraging matrix factorization such as LU decomposition or singular-value decomposition.\n",
    "\n",
    "It can be summarized using linear algebra notation:  \n",
    "$y = A \\cdot b$\n",
    "where\n",
    "- $y$ is the output variable\n",
    "- $A$ is the dataset\n",
    "- $b$ are the model coefficients\n",
    "\n",
    "### Regularization\n",
    "Simpler models often have smaller coefficient values. Regularization is leveraged to encourage a model to minimize the size of coefficients. Common implementations are the $L^{1}$ and $L^{2}$ forms. Both are a measure of the length of the coefficients as a vector, and leverage the vector norm.\n",
    "\n",
    "### Principal component analysis\n",
    "Modeling data with many features is challenging. Principal component analysis is a dimensionality reduction method used to create projections of high-dimensional data for visualization and training models. It uses a matrix factorization method; more robust implementations leverage eigendecomposition and singular-value decomposition.\n",
    "\n",
    "### Singular-value decomposition\n",
    "Singular-value decomposition is a dimensionality reduction method with applications in feature selection, visualization and noise reduction.\n",
    "\n",
    "### Latent semantic analysis\n",
    "Latent semantic analysis, also called latent semantic indexing, is a natural language processing method applied to document-term matrices (sparse representations of a text) and distill the representation down to its most relevant essence using matrix factorization methods such as singular-value decomposition.\n",
    "\n",
    "### Recommender systems\n",
    "The similarity between sparse customer behavior vectors leverages distance measures (e.g. Euclidean distance) or dot products. Matrix factorization methods such as single-value decomposition are used to distill user data to their essence for querying, searching and comparison.\n",
    "\n",
    "### Deep learning\n",
    "Artificial neural networks are nonlinear machine learning algorithms inspired by the way our brain processes information and have proved effective at a range of problems such as machine translation, photo captioning or speech recognition. Their execution leverages linear algebra structures (vectors, matrices and tensors of inputs and coefficients) multiplied and added together."
   ]
  },
  {
   "cell_type": "markdown",
   "id": "d284b3ea-e39d-4b13-9448-beaee007e579",
   "metadata": {},
   "source": [
    "## 04 - Introduction to NumPy arrays\n",
    "### NumPy n-dimensional array\n",
    "NumPy is the preferred Python tool for linear algebra operations:\n",
    "- the main structure is the `ndarray`, short for n-dimensional array\n",
    "- data in an `ndarray` is referred to as an array\n",
    "- data in an `ndarray` must be of the same type\n",
    "- the type of an `ndarray` can be retrieved using the argument `.dtype` on the array\n",
    "- the shape (ength of each dimension) of an `ndarray` can be retrieved using the argument `.shape` on the array\n",
    "- the function `array()` is used to create an `ndarray`"
   ]
  },
  {
   "cell_type": "code",
   "execution_count": 2,
   "id": "bbb45041-6caa-4193-b85a-586bb7e22c8b",
   "metadata": {},
   "outputs": [
    {
     "name": "stdout",
     "output_type": "stream",
     "text": [
      "array_int = [1 2 3]\n",
      "array_float = [1.09  2.87  3.654]\n",
      "array_mixed = [1.  2.5 3. ]\n",
      "\n",
      "Type of array_int: int64\n",
      "Type of array_float: float64\n",
      "Type of array_mixed: float64\n",
      "==> <array_mixed> was passed an array of mixed data types (integers and floats)\n",
      "and NumPy forced all the `ndarray` to a float dtype\n",
      "\n",
      "Shape of array_int: (3,)\n",
      "Shape of array_float: (3,)\n",
      "Shape of array_mixed: (3,)\n"
     ]
    }
   ],
   "source": [
    "import numpy as np\n",
    "#from collections.abc import Callable\n",
    "from typing import Callable, Union\n",
    "\n",
    "# Create arrays of integer, float and mixed types\n",
    "array_int = np.array([1, 2, 3])\n",
    "array_float = np.array([1.09, 2.87, 3.654])\n",
    "array_mixed = np.array([1, 2.5, 3])\n",
    "\n",
    "# Print arrays\n",
    "print(f\"array_int = {array_int}\")\n",
    "print(f\"array_float = {array_float}\")\n",
    "print(f\"array_mixed = {array_mixed}\")\n",
    "    \n",
    "# Get the shape of all arrays\n",
    "print(f\"\\nType of array_int: {array_int.dtype}\")\n",
    "print(f\"Type of array_float: {array_float.dtype}\")\n",
    "print(f\"\"\"Type of array_mixed: {array_mixed.dtype}\n",
    "==> <array_mixed> was passed an array of mixed data types (integers and floats)\n",
    "and NumPy forced all the `ndarray` to a float dtype\"\"\")\n",
    "\n",
    "# Get the type of all arrays\n",
    "print(f\"\\nShape of array_int: {array_int.shape}\")\n",
    "print(f\"Shape of array_float: {array_float.shape}\")\n",
    "print(f\"Shape of array_mixed: {array_mixed.shape}\")"
   ]
  },
  {
   "cell_type": "markdown",
   "id": "d9728057-70f4-47b0-b21d-fa7fabb5ed8f",
   "metadata": {},
   "source": [
    "### Functions to create arrays\n",
    "- `empty()` creates an array of random variables of the specified shape (NDH. the values are not really random, but rather uninitialized)\n",
    "- `zeros()` creates an array of zeros of the specified shape\n",
    "- `ones()` creates an array of ones variables of the specified shape"
   ]
  },
  {
   "cell_type": "code",
   "execution_count": 2,
   "id": "e75fd652-1eab-4aa0-8946-1d72fc22574c",
   "metadata": {},
   "outputs": [
    {
     "name": "stdout",
     "output_type": "stream",
     "text": [
      "array_empty =\n",
      "[[9.27120335e-310 0.00000000e+000 1.72963877e-309]\n",
      " [2.14263370e+160 5.92936410e-038 4.71865494e-090]\n",
      " [7.11289854e-038 3.09570359e-259 3.95252517e-322]]\n",
      "\n",
      "array_zeros =\n",
      "[[0. 0. 0. 0. 0.]\n",
      " [0. 0. 0. 0. 0.]\n",
      " [0. 0. 0. 0. 0.]]\n",
      "\n",
      "array_ones =\n",
      "[[1. 1. 1. 1. 1.]\n",
      " [1. 1. 1. 1. 1.]\n",
      " [1. 1. 1. 1. 1.]]\n"
     ]
    }
   ],
   "source": [
    "# Create arrays\n",
    "array_empty = np.empty([3,3])\n",
    "array_zeros = np.zeros([3,5])\n",
    "array_ones = np.ones([3,5])\n",
    "\n",
    "# Print arrays\n",
    "print(f\"array_empty =\\n{array_empty}\")\n",
    "print(f\"\\narray_zeros =\\n{array_zeros}\")\n",
    "print(f\"\\narray_ones =\\n{array_ones}\")"
   ]
  },
  {
   "cell_type": "code",
   "execution_count": 3,
   "id": "2ad99eb3-71b8-4855-8415-b37d5e5659eb",
   "metadata": {},
   "outputs": [],
   "source": [
    "# From scratch\n",
    "# Create arrays with values generated by a function\n",
    "import random\n",
    "import time\n",
    "random.seed(time.process_time())\n",
    "\n",
    "def create_array_with_func(m: int, n: int, function: Callable[..., Union[int, float]], *function_arguments) -> list:\n",
    "    \"\"\"Creates a matrix of size m x n with values generated by the function passed\n",
    "\n",
    "    Args:\n",
    "        m (int): the number of rows of the created matrix\n",
    "        n (int): the number of columns of the created matrix\n",
    "        function (function): the function to apply to generate the number\n",
    "\n",
    "    Returns:\n",
    "        list: a matrix of size m x n with values generated by the function passed\n",
    "    \"\"\"\n",
    "    array = []\n",
    "    for i in range(0, m):\n",
    "        array.append([])\n",
    "        for j in range(0, n):\n",
    "            array[i].append(function(*function_arguments))\n",
    "    return array"
   ]
  },
  {
   "cell_type": "code",
   "execution_count": 4,
   "id": "c69d93d5-8663-4cfe-8a25-384c6f85c281",
   "metadata": {},
   "outputs": [
    {
     "data": {
      "text/plain": [
       "array([[4.8523103 , 6.8933665 , 3.42736435],\n",
       "       [6.84691407, 6.57227902, 1.99361783],\n",
       "       [4.9086816 , 5.99988212, 2.03652842]])"
      ]
     },
     "execution_count": 4,
     "metadata": {},
     "output_type": "execute_result"
    }
   ],
   "source": [
    "# Implement empty() from scratch\n",
    "np.array(create_array_with_func(3, 3, np.random.uniform, 0, 7))"
   ]
  },
  {
   "cell_type": "code",
   "execution_count": 5,
   "id": "6732ba27-cad0-4f50-982f-44159cb8587d",
   "metadata": {},
   "outputs": [
    {
     "data": {
      "text/plain": [
       "array([[0., 0., 0., 0., 0.],\n",
       "       [0., 0., 0., 0., 0.],\n",
       "       [0., 0., 0., 0., 0.]])"
      ]
     },
     "execution_count": 5,
     "metadata": {},
     "output_type": "execute_result"
    }
   ],
   "source": [
    "# Implement zeros() from scratch\n",
    "np.array(create_array_with_func(3, 5, lambda x: 0., None))"
   ]
  },
  {
   "cell_type": "code",
   "execution_count": 6,
   "id": "f5f688c3-4f90-449c-ba6f-9c6d56f6bfac",
   "metadata": {},
   "outputs": [
    {
     "data": {
      "text/plain": [
       "array([[1., 1., 1., 1., 1.],\n",
       "       [1., 1., 1., 1., 1.],\n",
       "       [1., 1., 1., 1., 1.]])"
      ]
     },
     "execution_count": 6,
     "metadata": {},
     "output_type": "execute_result"
    }
   ],
   "source": [
    "# Implement ones() from scratch\n",
    "np.array(create_array_with_func(3, 5, lambda x: 1., None))"
   ]
  },
  {
   "cell_type": "markdown",
   "id": "79ca86bd-6fa9-4da8-a108-9a69b4948c15",
   "metadata": {},
   "source": [
    "### Combining arrays\n",
    "Arrays can be stacked:\n",
    "- vertically using `vstack()`: given two one-dimensional arrays of the same length, you get a new two-dimensional array with two rows\n",
    "- horizontally using `hstack()`: given two one-dimensional arrays of potentially similar length, you get a new one-dimensional array"
   ]
  },
  {
   "cell_type": "code",
   "execution_count": 7,
   "id": "f931081a-eb3c-40bf-88d4-d915d61245d3",
   "metadata": {},
   "outputs": [
    {
     "name": "stdout",
     "output_type": "stream",
     "text": [
      "Same length:\n",
      "Vertical stack\n",
      "[[1 2 3]\n",
      " [4 5 6]]\n",
      "\n",
      "Horizontal stack\n",
      "[1 2 3 4 5 6]\n",
      "\n",
      "Different length:\n",
      "Vertical stack\n",
      "ValueError: all the input array dimensions for the concatenation axis must match exactly, but along dimension 1, the array at index 0 has size 3 and the array at index 1 has size 4\n",
      "\n",
      "Horizontal stack\n",
      "[1 2 3 4 5 6 7]\n"
     ]
    }
   ],
   "source": [
    "# Same length\n",
    "print(\"Same length:\")\n",
    "# Creating arrays\n",
    "array_s01 = np.array([1, 2, 3])\n",
    "array_s02 = np.array([4, 5, 6])\n",
    "\n",
    "# Stacking\n",
    "stack_sv = np.vstack([array_s01, array_s02])\n",
    "stack_sh = np.hstack([array_s01, array_s02])\n",
    "\n",
    "# Printing results\n",
    "print(f\"Vertical stack\\n{stack_sv}\")\n",
    "print(f\"\\nHorizontal stack\\n{stack_sh}\")\n",
    "\n",
    "# Different length\n",
    "print(\"\\nDifferent length:\")\n",
    "# Creating arrays\n",
    "array_d01 = np.array([1, 2, 3])\n",
    "array_d02 = np.array([4, 5, 6, 7])\n",
    "\n",
    "# Stacking\n",
    "print(f\"Vertical stack\")\n",
    "try:\n",
    "    stack_dv = np.vstack([array_d01, array_d02])\n",
    "    print(stack_dv)\n",
    "except ValueError as e:\n",
    "    print(f\"ValueError: {e}\")\n",
    "stack_dh = np.hstack([array_d01, array_d02])\n",
    "\n",
    "# Printing results\n",
    "print(f\"\\nHorizontal stack\\n{stack_dh}\")"
   ]
  },
  {
   "cell_type": "code",
   "execution_count": 8,
   "id": "288a0a41-6a92-4101-ab79-4a1c10c39279",
   "metadata": {},
   "outputs": [],
   "source": [
    "# From scratch\n",
    "def stack_arrays(stack_type: str, arrays) -> list:\n",
    "    output = []\n",
    "    it = iter(arrays)\n",
    "    length = len(next(it))\n",
    "    \n",
    "    if stack_type == \"h\":\n",
    "        for array in arrays:\n",
    "            for item in array:\n",
    "                output.append(item)\n",
    "    elif stack_type == \"v\":\n",
    "        # Check if no array has a different dimension than the first one\n",
    "        if any(len(l) != length for l in it):\n",
    "            return(\"Can't vertically stack arrays of different dimensions.\")\n",
    "        else:\n",
    "            for array in arrays:\n",
    "                output.append(array)\n",
    "            \n",
    "    return np.array(output)"
   ]
  },
  {
   "cell_type": "code",
   "execution_count": 9,
   "id": "d0ffcf63-fd37-4c60-ba82-ba631829a173",
   "metadata": {},
   "outputs": [
    {
     "name": "stdout",
     "output_type": "stream",
     "text": [
      "Same length:\n",
      "Vertical stack\n",
      "[[1 2 3]\n",
      " [4 5 6]]\n",
      "\n",
      "Horizontal stack\n",
      "[1 2 3 4 5 6]\n",
      "\n",
      "Different length:\n",
      "Vertical stack\n",
      "Can't vertically stack arrays of different dimensions.\n",
      "\n",
      "Horizontal stack\n",
      "[1 2 3 4 5 6 7]\n"
     ]
    }
   ],
   "source": [
    "# Same length\n",
    "print(\"Same length:\")\n",
    "# Creating arrays\n",
    "array_s01 = [1, 2, 3]\n",
    "array_s02 = [4, 5, 6]\n",
    "\n",
    "# Stacking\n",
    "stack_sv = stack_arrays(\"v\", [array_s01, array_s02])\n",
    "stack_sh = stack_arrays(\"h\", [array_s01, array_s02])\n",
    "\n",
    "# Printing results\n",
    "print(f\"Vertical stack\\n{stack_sv}\")\n",
    "print(f\"\\nHorizontal stack\\n{stack_sh}\")\n",
    "\n",
    "# Different length\n",
    "print(\"\\nDifferent length:\")\n",
    "# Creating arrays\n",
    "array_d01 = np.array([1, 2, 3])\n",
    "array_d02 = np.array([4, 5, 6, 7])\n",
    "\n",
    "stack_dv = stack_arrays(\"v\", [array_d01, array_d02])\n",
    "stack_dh = stack_arrays(\"h\", [array_d01, array_d02])\n",
    "\n",
    "print(f\"Vertical stack\\n{stack_dv}\")\n",
    "print(f\"\\nHorizontal stack\\n{stack_dh}\")"
   ]
  },
  {
   "cell_type": "markdown",
   "id": "4659894e-8df2-4fa5-a363-58ff426a6b48",
   "metadata": {},
   "source": [
    "## 05 - Index, slice and reshape NumPy arrays\n",
    "Machine learning data is represented as arrays - and in Python, almost always as NumPy arrays.\n",
    "\n",
    "### From list to arrays\n",
    "#### One-dimensional list to array\n",
    "- the `array()` function can convert a one-dimensional Python list to a NumPy array"
   ]
  },
  {
   "cell_type": "code",
   "execution_count": 10,
   "id": "e41e719c-dabc-4895-a1f9-05408cf6cc96",
   "metadata": {},
   "outputs": [
    {
     "name": "stdout",
     "output_type": "stream",
     "text": [
      "NumPy array:\n",
      "[11 22 33 44 55]\n",
      "NumPy array type: <class 'numpy.ndarray'>\n",
      "NumPy array data type: int64\n",
      "Shape: (5,)\n"
     ]
    }
   ],
   "source": [
    "# Create Python list\n",
    "python_list = [11, 22, 33, 44, 55]\n",
    "\n",
    "# Create NumPy array\n",
    "numpy_array = np.array(python_list)\n",
    "\n",
    "# Print results\n",
    "print(f\"NumPy array:\\n{numpy_array}\")\n",
    "print(f\"NumPy array type: {type(numpy_array)}\")\n",
    "print(f\"NumPy array data type: {numpy_array.dtype}\")\n",
    "print(f\"Shape: {numpy_array.shape}\")"
   ]
  },
  {
   "cell_type": "markdown",
   "id": "c8266ab5-96fe-4aab-973a-f4fa00655afd",
   "metadata": {},
   "source": [
    "#### Two-dimensional list to array\n",
    "Two-dimensional data is more likely in machine learning: it corresponds to a table where rows represent observations and columns represent features.\n",
    "\n",
    "You can convert a list of lists where each list is a new observation to a NumPy array using the `array()` function as well."
   ]
  },
  {
   "cell_type": "code",
   "execution_count": 11,
   "id": "4d4b0a4a-1f35-406b-a871-805fb512bea0",
   "metadata": {},
   "outputs": [
    {
     "name": "stdout",
     "output_type": "stream",
     "text": [
      "NumPy array:\n",
      "[[11 22]\n",
      " [33 44]\n",
      " [55 66]]\n",
      "NumPy array type: <class 'numpy.ndarray'>\n",
      "NumPy array data type: int64\n",
      "Shape: (3, 2)\n"
     ]
    }
   ],
   "source": [
    "# Create Python list\n",
    "python_list = [[11, 22],\n",
    "               [33, 44],\n",
    "               [55, 66]]\n",
    "\n",
    "# Create NumPy array\n",
    "numpy_array = np.array(python_list)\n",
    "\n",
    "# Print results\n",
    "print(f\"NumPy array:\\n{numpy_array}\")\n",
    "print(f\"NumPy array type: {type(numpy_array)}\")\n",
    "print(f\"NumPy array data type: {numpy_array.dtype}\")\n",
    "print(f\"Shape: {numpy_array.shape}\")"
   ]
  },
  {
   "cell_type": "markdown",
   "id": "13252c43-1234-4e81-8de0-0b27f03791b3",
   "metadata": {},
   "source": [
    "### Array indexing\n",
    "You can access data in a NumPy array using indexing.\n",
    "\n",
    "#### One-dimensional indexing\n",
    "Indexing works like in Python, using:\n",
    "- the square bracket operators (`[]`)\n",
    "- a zero-offset index for the value to retrieve\n",
    "- a negative indexes to retrieve values offset from the end of the array"
   ]
  },
  {
   "cell_type": "code",
   "execution_count": 12,
   "id": "6fe16c11-117d-414c-be47-b558948a59b6",
   "metadata": {},
   "outputs": [
    {
     "name": "stdout",
     "output_type": "stream",
     "text": [
      "Value at 1st position (index 0): 11\n",
      "Value at 5th position (index 4): 55\n",
      "Value at 4th position (index -2): 44\n"
     ]
    }
   ],
   "source": [
    "# Create NumPy array\n",
    "python_list = [11, 22, 33, 44, 55]\n",
    "numpy_array = np.array(python_list)\n",
    "\n",
    "# Get data at 1st and 5th position\n",
    "print(f\"Value at 1st position (index 0): {numpy_array[0]}\")\n",
    "print(f\"Value at 5th position (index 4): {numpy_array[4]}\")\n",
    "print(f\"Value at 4th position (index -2): {numpy_array[-2]}\")"
   ]
  },
  {
   "cell_type": "code",
   "execution_count": 13,
   "id": "01867fc6-197c-4777-817f-89025af6ca0f",
   "metadata": {},
   "outputs": [
    {
     "name": "stdout",
     "output_type": "stream",
     "text": [
      "Value at 1st position (index 0): 11\n",
      "Value at 5th position (index 4): 55\n",
      "Value at 4th position (index -2): 44\n"
     ]
    }
   ],
   "source": [
    "# From scratch\n",
    "python_list = [11, 22, 33, 44, 55]\n",
    "\n",
    "# Get data at 1st and 5th position\n",
    "print(f\"Value at 1st position (index 0): {python_list[0]}\")\n",
    "print(f\"Value at 5th position (index 4): {python_list[4]}\")\n",
    "print(f\"Value at 4th position (index -2): {python_list[-2]}\")"
   ]
  },
  {
   "cell_type": "markdown",
   "id": "ee52d710-b797-4af8-aee8-fab0107423e2",
   "metadata": {},
   "source": [
    "#### Two-dimensional indexing\n",
    "- indexing two-dimensional data is similar to indexing one-dimensional data, except that a comma is used to separate the index for each dimension\n",
    "- the column index value can be left blank to select all columns for the given row"
   ]
  },
  {
   "cell_type": "code",
   "execution_count": 14,
   "id": "238cc852-3e6f-4926-b392-2206f187ae78",
   "metadata": {},
   "outputs": [
    {
     "name": "stdout",
     "output_type": "stream",
     "text": [
      "Value at 1st row, 2nd column ([0, 1]): 22\n",
      "Value at 3rd row, 1st column ([2, 0]): 55\n",
      "All values of 2nd row ([0,]): [33 44]\n"
     ]
    }
   ],
   "source": [
    "# Create Python list\n",
    "python_list = [[11, 22],\n",
    "               [33, 44],\n",
    "               [55, 66]]\n",
    "\n",
    "# Create NumPy array\n",
    "numpy_array = np.array(python_list)\n",
    "\n",
    "# Get data in first row, second column third row, first column\n",
    "print(f\"Value at 1st row, 2nd column ([0, 1]): {numpy_array[0, 1]}\")\n",
    "print(f\"Value at 3rd row, 1st column ([2, 0]): {numpy_array[2, 0]}\")\n",
    "print(f\"All values of 2nd row ([0,]): {numpy_array[1,]}\")"
   ]
  },
  {
   "cell_type": "code",
   "execution_count": 15,
   "id": "e6924fbb-fa5b-48d7-bab5-c593066e24d9",
   "metadata": {},
   "outputs": [],
   "source": [
    "# From scratch\n",
    "def get_value_from_index(indexes: list, arrays: list):\n",
    "    if indexes[0] == \",\":\n",
    "        return arrays\n",
    "    elif len(indexes) == 1:\n",
    "        return arrays[indexes[0]]\n",
    "    else:\n",
    "        return get_value_from_index(indexes[1:], arrays[indexes[0]])\n",
    "        "
   ]
  },
  {
   "cell_type": "code",
   "execution_count": 16,
   "id": "2df2c99a-ea50-4399-8503-bd6f109d6bcb",
   "metadata": {},
   "outputs": [
    {
     "name": "stdout",
     "output_type": "stream",
     "text": [
      "Value at 1st row, 2nd column ([0, 1]): 22\n",
      "Value at 3rd row, 1st column ([2, 0]): 55\n",
      "All values of 2nd row ([0,]): [33, 44]\n",
      "Value at 1st 1d, 2nd 2d, 2nd 3d ([0, 1, 1]): 34\n",
      "Value at 3rd 1d ([2,]): [[55, 14], [66, 36]]\n"
     ]
    }
   ],
   "source": [
    "# Two dimensions\n",
    "python_list = [[11, 22],\n",
    "               [33, 44],\n",
    "               [55, 66]]\n",
    "print(f\"Value at 1st row, 2nd column ([0, 1]): {get_value_from_index([0, 1], python_list)}\")\n",
    "print(f\"Value at 3rd row, 1st column ([2, 0]): {get_value_from_index([2, 0], python_list)}\")\n",
    "print(f\"All values of 2nd row ([0,]): {get_value_from_index([1, ','], python_list)}\")\n",
    "\n",
    "# n dimensions\n",
    "python_list = [[[11, 12], [22, 34]],\n",
    "               [[33, 13], [44, 35]],\n",
    "               [[55, 14], [66, 36]]]\n",
    "\n",
    "print(f\"Value at 1st 1d, 2nd 2d, 2nd 3d ([0, 1, 1]): {get_value_from_index([0, 1, 1], python_list)}\")\n",
    "print(f\"Value at 3rd 1d ([2,]): {get_value_from_index([2, ','], python_list)}\")"
   ]
  },
  {
   "cell_type": "markdown",
   "id": "6416a16f-01a9-411c-a50e-521bd0ad5036",
   "metadata": {},
   "source": [
    "### Array slicing\n",
    "The slice extends from the *from* index and ends one item before the *to* index: `data[from:to]`.\n",
    "\n",
    "#### One-dimensional slicing\n",
    "All data in an array dimension can be selected by specifying the slice with no indexes: `:`."
   ]
  },
  {
   "cell_type": "code",
   "execution_count": 17,
   "id": "1b0bc042-1424-4d59-84b2-53ae5c845066",
   "metadata": {},
   "outputs": [
    {
     "name": "stdout",
     "output_type": "stream",
     "text": [
      "Selecting all data with `:`:\n",
      "[11 22 33 44 55]\n"
     ]
    }
   ],
   "source": [
    "# Create NumPy array\n",
    "python_list = [11, 22, 33, 44, 55]\n",
    "numpy_array = np.array(python_list)\n",
    "\n",
    "# Get all data using a slice with no indexes\n",
    "print(f\"Selecting all data with `:`:\\n{numpy_array[:]}\")"
   ]
  },
  {
   "cell_type": "code",
   "execution_count": 18,
   "id": "edb4a732-fe1a-4a59-9864-eb75e11fe5fb",
   "metadata": {},
   "outputs": [
    {
     "name": "stdout",
     "output_type": "stream",
     "text": [
      "Selecting all data with `:`:\n",
      "[11 22 33 44 55]\n"
     ]
    }
   ],
   "source": [
    "# From scratch\n",
    "python_list = [11, 22, 33, 44, 55]\n",
    "print(f\"Selecting all data with `:`:\\n{np.array(python_list[:])}\")"
   ]
  },
  {
   "cell_type": "markdown",
   "id": "0bb6f59f-c3ff-4d55-a436-7af0bcb7c705",
   "metadata": {},
   "source": [
    "#### Two-dimensional slicing\n",
    "It is common to split your data into input variables $X$ and output variable $y$.\n",
    "\n",
    "\n",
    "This can be done using slicing:\n",
    "- we can select all rows and all columns except the last one by specifying `:` in the rows index and `:-1` in the columns index\n",
    "- we can select all rows and the last column by specifying `:` in the rows index and `-1` in the columns index."
   ]
  },
  {
   "cell_type": "code",
   "execution_count": 19,
   "id": "8f37c7c5-956d-44ea-81e4-2878c62bef6b",
   "metadata": {},
   "outputs": [
    {
     "name": "stdout",
     "output_type": "stream",
     "text": [
      "Inputs X:\n",
      "[[11 22]\n",
      " [44 55]\n",
      " [77 88]]\n",
      "Outputs y:\n",
      "[33 66 99]\n"
     ]
    }
   ],
   "source": [
    "# Create Python list\n",
    "python_list = [[11, 22, 33],\n",
    "               [44, 55, 66],\n",
    "               [77, 88, 99]]\n",
    "\n",
    "# Create NumPy array\n",
    "numpy_array = np.array(python_list)\n",
    "\n",
    "# Get inputs\n",
    "inputs_X = numpy_array[:, :-1]\n",
    "output_y = numpy_array[:, -1]\n",
    "\n",
    "# Print results\n",
    "print(f\"Inputs X:\\n{inputs_X}\")\n",
    "print(f\"Outputs y:\\n{output_y}\")"
   ]
  },
  {
   "cell_type": "code",
   "execution_count": 20,
   "id": "0552a39c-bd4f-4d5f-a221-35eb478223de",
   "metadata": {},
   "outputs": [
    {
     "name": "stdout",
     "output_type": "stream",
     "text": [
      "Added [11, 22]\n",
      "Added [44, 55]\n",
      "Added [77, 88]\n",
      "Added 33\n",
      "Added 66\n",
      "Added 99\n",
      "Inputs X:\n",
      "[[11 22]\n",
      " [44 55]\n",
      " [77 88]]\n",
      "Outputs y:\n",
      "[33 66 99]\n",
      "Added 12\n",
      "Added 13\n",
      "Added 14\n",
      "Added 34\n",
      "Added 35\n",
      "Added 36\n",
      "Inputs X:\n",
      "[12 13 14]\n",
      "Outputs y:\n",
      "[34 35 36]\n"
     ]
    }
   ],
   "source": [
    "# From scratch\n",
    "# Getting slices to slice each array\n",
    "def get_slice(array, index):\n",
    "    if index.startswith(\":\"):\n",
    "        if len(index)==1:\n",
    "            index_start = 0\n",
    "            index_end = len(array)\n",
    "        else:\n",
    "            index_start = 0\n",
    "            index_end = int(index[1:])\n",
    "    elif index.endswith(\":\"):\n",
    "        index_start = int(index[:-1])\n",
    "        index_end = len(index)\n",
    "    elif \":\" in index:\n",
    "        index_start, index_end = [int(i) for i in index.split(\":\")]\n",
    "    elif \"-\" in index:\n",
    "        index_start = int(index)\n",
    "        index_end = len(array) - int(index)\n",
    "    else:\n",
    "        index_start = int(index)\n",
    "        index_end = int(index) + 1\n",
    "    return slice(index_start, index_end, 1)\n",
    "\n",
    "# Getting slices to slice each array\n",
    "# Tested on 2D and 3D arrays\n",
    "def slice_array(output, arrays, *indexes):\n",
    "    if len(indexes) >= 2:\n",
    "        for array in arrays[get_slice(arrays, indexes[0])]:        \n",
    "            slice_array(output, array[get_slice(array, indexes[1])], *indexes[2:])\n",
    "    elif type(arrays[0]) == list:\n",
    "        if len(arrays) > 1:\n",
    "            output.append(arrays[0][get_slice(arrays[0], indexes[0])])\n",
    "            print(f\"Added {arrays[0][get_slice(arrays[0], indexes[0])]}\")\n",
    "        else:\n",
    "            output.append(arrays[0][get_slice(arrays[0], indexes[0])][0])\n",
    "            print(f\"Added {arrays[0][get_slice(arrays[0], indexes[0])][0]}\")\n",
    "\n",
    "    elif type(arrays[0]) == int:\n",
    "        if len(arrays) > 1:\n",
    "            output.append(arrays)\n",
    "            print(f\"Added {arrays}\")\n",
    "        else:\n",
    "            output.append(arrays[0])\n",
    "            print(f\"Added {arrays[0]}\")\n",
    "            \n",
    "    return output\n",
    "    \n",
    "\n",
    "# Testing for 2D arrays\n",
    "python_list = [[11, 22, 33],\n",
    "               [44, 55, 66],\n",
    "               [77, 88, 99]]\n",
    "\n",
    "inputs_X = np.array(slice_array([], python_list, \":\", \":-1\", \"1\"))\n",
    "output_y = np.array(slice_array([], python_list, \":\", \"-1\", \"1\"))\n",
    "\n",
    "# Print results\n",
    "print(f\"Inputs X:\\n{inputs_X}\")\n",
    "print(f\"Outputs y:\\n{output_y}\")\n",
    "\n",
    "\n",
    "# Testing for 3D arrays\n",
    "python_list = [[[11, 12], [22, 34]],\n",
    "               [[33, 13], [44, 35]],\n",
    "               [[55, 14], [66, 36]]]\n",
    "\n",
    "inputs_X = np.array(slice_array([], python_list, \":\", \":-1\", \"1\"))\n",
    "output_y = np.array(slice_array([], python_list, \":\", \"-1\", \"1\"))\n",
    "\n",
    "# Print results\n",
    "print(f\"Inputs X:\\n{np.array(inputs_X)}\")\n",
    "print(f\"Outputs y:\\n{np.array(output_y)}\")"
   ]
  },
  {
   "cell_type": "markdown",
   "id": "fed8c5fd-5a43-41a9-9281-440f722a01e1",
   "metadata": {},
   "source": [
    "#### Split train and test rows\n",
    "It is common to split a loaded dataset into separate training and testing sets.\n",
    "\n",
    "In NumPy, this can be done:\n",
    "- you can select the training dataset slicing all columns by specifying `:` in the second dimension index: `train = data[:split, :]`\n",
    "- you can select the testing dataset slicing all columns by specifying `:` in the second dimension index: `train = data[split:, :]`"
   ]
  },
  {
   "cell_type": "code",
   "execution_count": 21,
   "id": "1ec1d532-26a6-47a3-afae-e913aba2aec8",
   "metadata": {},
   "outputs": [
    {
     "name": "stdout",
     "output_type": "stream",
     "text": [
      "Train:\n",
      "[[11 22 33]\n",
      " [44 55 66]]\n",
      "Test:\n",
      "[[77 88 99]]\n"
     ]
    }
   ],
   "source": [
    "# Create Python list\n",
    "python_list = [[11, 22, 33],\n",
    "               [44, 55, 66],\n",
    "               [77, 88, 99]]\n",
    "\n",
    "# Create NumPy array\n",
    "numpy_array = np.array(python_list)\n",
    "\n",
    "# Split into train and test sets\n",
    "split = 2\n",
    "train = numpy_array[:split, :]\n",
    "test = numpy_array[split:, :]\n",
    "\n",
    "# Print results\n",
    "print(f\"Train:\\n{train}\")\n",
    "print(f\"Test:\\n{test}\")"
   ]
  },
  {
   "cell_type": "code",
   "execution_count": 22,
   "id": "e21aad31-55c6-45a1-bdd9-f8f8c6303e1d",
   "metadata": {},
   "outputs": [
    {
     "name": "stdout",
     "output_type": "stream",
     "text": [
      "Train:\n",
      "[[11 22 33]\n",
      " [44 55 66]]\n",
      "Test:\n",
      "[[77 88 99]]\n"
     ]
    }
   ],
   "source": [
    "# From scratch\n",
    "# Define split_train_test() function\n",
    "def split_train_test(table: list, threshold: int):\n",
    "    train = table[:threshold]\n",
    "    test = table[threshold:]\n",
    "    return train, test\n",
    "\n",
    "# Create Python list\n",
    "python_list = [[11, 22, 33],\n",
    "               [44, 55, 66],\n",
    "               [77, 88, 99]]\n",
    "\n",
    "# Split into train and test sets\n",
    "threshold = 2\n",
    "train, test = split_train_test(python_list, threshold)\n",
    "\n",
    "# Print results\n",
    "print(f\"Train:\\n{np.array(train)}\")\n",
    "print(f\"Test:\\n{np.array(test)}\")"
   ]
  },
  {
   "cell_type": "markdown",
   "id": "dd9488d0-50c6-4ba5-9e6c-4990199a029f",
   "metadata": {},
   "source": [
    "### Array reshaping\n",
    "You may need to reshape your data. Some libraries like scikit-learn require that a one-dimensional array of output variables ($y$) be shaped as a two-dimensional array with one column and outcomes for each column. Some algorithms like the long short-term memory recurrent neural network in Keras require inputs to be specified as a three-dimensional array representing samples, timesteps and features.\n",
    "\n",
    "#### Data shape\n",
    "The `shape` attribute returns a tuple of the length of each dimension of the array.\n",
    "\n",
    "NDH: Shapes are returned from the outer list to the inner lists."
   ]
  },
  {
   "cell_type": "code",
   "execution_count": 23,
   "id": "d023a9b8-364e-4257-b0b7-9895a15435e5",
   "metadata": {},
   "outputs": [
    {
     "name": "stdout",
     "output_type": "stream",
     "text": [
      "Shape of array_01:\n",
      "(5,)\n",
      "Shape of array_02:\n",
      "(2, 5)\n",
      "corresponding to:\n",
      "Rows:2\n",
      "Columns:5\n",
      "Shape of array_03:\n",
      "(3, 2, 5)\n"
     ]
    }
   ],
   "source": [
    "# Create NumPy arrays\n",
    "array_01 = np.array([1, 2, 3, 4, 5])\n",
    "array_02 = np.array([[1, 2, 3, 4, 5],\n",
    "                     [6, 7, 8, 9, 10]])\n",
    "array_03 = np.array([[[1, 2, 3, 4, 5], [6, 7, 8, 9, 10]],\n",
    "                     [[11, 12, 13, 14, 15], [16, 17, 18, 19, 20]],\n",
    "                     [[21, 22, 23, 24, 25], [26, 27, 28, 29, 30]]])\n",
    "\n",
    "# Print shapes\n",
    "print(f\"Shape of array_01:\\n{array_01.shape}\")\n",
    "print(f\"Shape of array_02:\\n{array_02.shape}\")\n",
    "print(f\"corresponding to:\\nRows:{array_02.shape[0]}\\nColumns:{array_02.shape[1]}\")\n",
    "print(f\"Shape of array_03:\\n{array_03.shape}\")"
   ]
  },
  {
   "cell_type": "markdown",
   "id": "1661b8cb-eee4-42ae-9925-12195ecb9fec",
   "metadata": {},
   "source": [
    "#### Reshape 1D to 2D array\n",
    "It is common to need to reshape a one-dimensional array into a two-dimensional array with one column and multiple arrays:\n",
    "- the `reshape()` function takes a single argument that specifies the new shape of the array\n",
    "- this single argument is a tuple with the shape of the array as the first dimension and 1 for the second dimension"
   ]
  },
  {
   "cell_type": "code",
   "execution_count": 24,
   "id": "7ba8be0e-6ab9-4973-9cc2-b9c6a0e069b0",
   "metadata": {},
   "outputs": [
    {
     "name": "stdout",
     "output_type": "stream",
     "text": [
      "Original shape: (5,)\n",
      "New shape: (5, 1)\n"
     ]
    }
   ],
   "source": [
    "# Create NumPy arrays\n",
    "array_01 = np.array([1, 2, 3, 4, 5])\n",
    "\n",
    "# Print original shape\n",
    "print(f\"Original shape: {array_01.shape}\")\n",
    "\n",
    "# Reshape NumPy array\n",
    "array_01 = array_01.reshape((array_01.shape[0], 1))\n",
    "\n",
    "# Print new shape\n",
    "print(f\"New shape: {array_01.shape}\")"
   ]
  },
  {
   "cell_type": "markdown",
   "id": "b38c348f-2502-465d-bf5a-ff75ab05f96c",
   "metadata": {},
   "source": [
    "#### Reshape 2D to 3D array\n",
    "It is common to need to reshape two-dimensional data where each row represents a sequence into a three-dimensional array for algorithms that expect multiple samples of one or more timesteps and one or more features."
   ]
  },
  {
   "cell_type": "code",
   "execution_count": 25,
   "id": "b2eacf46-d4fd-4882-a0b7-57b4b25872d5",
   "metadata": {},
   "outputs": [
    {
     "name": "stdout",
     "output_type": "stream",
     "text": [
      "Original shape: (2, 5)\n",
      "New shape: (2, 5, 1)\n"
     ]
    }
   ],
   "source": [
    "# Create NumPy array\n",
    "array_01 = np.array([[1, 2, 3, 4, 5],\n",
    "                     [6, 7, 8, 9, 10]])\n",
    "\n",
    "# Print original shape\n",
    "print(f\"Original shape: {array_01.shape}\")\n",
    "\n",
    "# Reshape NumPy array\n",
    "array_01 = array_01.reshape((array_01.shape[0], array_01.shape[1], 1))\n",
    "\n",
    "# Print new shape\n",
    "print(f\"New shape: {array_01.shape}\")"
   ]
  },
  {
   "cell_type": "markdown",
   "id": "0e1cd5f1-c4d1-46cc-ae6d-dcf6581af753",
   "metadata": {},
   "source": [
    "## 06 - NumPy array broadcasting\n",
    "Arrays with different sizes cannot be added, subtracted or generally used in arithmetic. NumPy overcomes this with array **broadcasting**: duplicating the smaller array so that it has the dimensionality and size of the larger array.\n",
    "\n",
    "### Limitation with array arithmetic\n",
    "You can perform array arithmetic such as addition and subtraction on NumPy arrays:\n",
    "- two arrays can be added together\n",
    "- values at each index are added together\n",
    "- arithmetic can only be performed on arrays that have the same dimensions and dimensions with the same size"
   ]
  },
  {
   "cell_type": "code",
   "execution_count": 26,
   "id": "b27b1e15-132a-425c-90bd-36d3f95649e0",
   "metadata": {},
   "outputs": [
    {
     "name": "stdout",
     "output_type": "stream",
     "text": [
      "[2 4 6]\n"
     ]
    }
   ],
   "source": [
    "# Create arrays\n",
    "array_01 = np.array([1, 2, 3])\n",
    "array_02 = np.array([1, 2, 3])\n",
    "\n",
    "# Print sum\n",
    "print(array_01 + array_02)"
   ]
  },
  {
   "cell_type": "code",
   "execution_count": 27,
   "id": "0ba81de8-cc7b-4076-adaf-37f4dd54a89c",
   "metadata": {},
   "outputs": [
    {
     "name": "stdout",
     "output_type": "stream",
     "text": [
      "[2 4 6]\n"
     ]
    }
   ],
   "source": [
    "# From scratch\n",
    "# Create arrays\n",
    "list_01 = [1, 2, 3]\n",
    "list_02 = [1, 2, 3]\n",
    "\n",
    "# Print sum\n",
    "output = [list_01[i] + list_02[i] for i in range(len(list_01))]\n",
    "print(np.array(output))"
   ]
  },
  {
   "cell_type": "markdown",
   "id": "b471700d-e9b2-45b2-b117-e89de6ef0df8",
   "metadata": {},
   "source": [
    "### Array broadcasting"
   ]
  },
  {
   "cell_type": "markdown",
   "id": "f976dc3f-2415-4e22-803c-096f38c17a44",
   "metadata": {},
   "source": [
    "Broadcasting allows array arithmetic between arrays with a different shape or size. The technique was developed for NumPy but has since been adopted by other libraries such as Theano, TensorFlow and Octave.\n",
    "\n",
    "### Broadcasting in NumPy\n",
    "#### Scalar and one-dimensional array\n",
    "If we have a one-dimensional array and a scalar $b$, then $b$ is broadcast across the one-dimensional array by duplicating it as many times as possible:"
   ]
  },
  {
   "cell_type": "code",
   "execution_count": 28,
   "id": "89dd4cc5-6f7a-427a-9a6c-3d79eec1d583",
   "metadata": {},
   "outputs": [
    {
     "name": "stdout",
     "output_type": "stream",
     "text": [
      "[4 5 6]\n"
     ]
    }
   ],
   "source": [
    "# Create array and scalar\n",
    "array_01 = np.array([1, 2, 3])\n",
    "scalar_01 = 3\n",
    "\n",
    "# Print broadcast result\n",
    "print(array_01 + scalar_01)"
   ]
  },
  {
   "cell_type": "code",
   "execution_count": 29,
   "id": "81cab165-9383-47e6-9315-8f8762578514",
   "metadata": {},
   "outputs": [
    {
     "name": "stdout",
     "output_type": "stream",
     "text": [
      "[4 5 6]\n"
     ]
    }
   ],
   "source": [
    "# From scratch\n",
    "# Create array and scalar\n",
    "list_01 = [1, 2, 3]\n",
    "scalar_01 = 3\n",
    "\n",
    "# Print broadcast result\n",
    "output = []\n",
    "for item in list_01:\n",
    "    output.append(item + scalar_01)\n",
    "\n",
    "print(np.array(output))"
   ]
  },
  {
   "cell_type": "markdown",
   "id": "e93de7eb-fe09-4977-a9a7-0d824eda2181",
   "metadata": {},
   "source": [
    "#### Scalar and two-dimensional array"
   ]
  },
  {
   "cell_type": "markdown",
   "id": "99318e9c-215d-44d4-be0c-94ea887b5574",
   "metadata": {},
   "source": [
    "If we have a two-dimensional array and a scalar $b$, then $b$ is broadcast across all dimensions of the two-dimensional array by duplicating it as many times as possible:"
   ]
  },
  {
   "cell_type": "code",
   "execution_count": 30,
   "id": "1604c888-ad37-4fad-a257-22a4a4ab623e",
   "metadata": {},
   "outputs": [
    {
     "name": "stdout",
     "output_type": "stream",
     "text": [
      "[[4 5 6]\n",
      " [4 5 6]]\n"
     ]
    }
   ],
   "source": [
    "# Create array and scalar\n",
    "array_01 = np.array([[1, 2, 3],\n",
    "                     [1, 2, 3]])\n",
    "scalar_01 = 3\n",
    "\n",
    "# Print broadcast result\n",
    "print(array_01 + scalar_01)"
   ]
  },
  {
   "cell_type": "code",
   "execution_count": 31,
   "id": "6f9db0e8-b444-408f-b864-aafeec43945e",
   "metadata": {},
   "outputs": [
    {
     "name": "stdout",
     "output_type": "stream",
     "text": [
      "[[4 5 6]\n",
      " [4 5 6]]\n"
     ]
    }
   ],
   "source": [
    "# From scratch\n",
    "# Create array and scalar\n",
    "list_01 = [[1, 2, 3],\n",
    "           [1, 2, 3]]\n",
    "\n",
    "scalar_01 = 3\n",
    "\n",
    "# Print broadcast result\n",
    "output = []\n",
    "for array in list_01:\n",
    "    row = []\n",
    "    for item in array:\n",
    "        row.append(item + scalar_01)\n",
    "    output.append(row)\n",
    "\n",
    "print(np.array(output))"
   ]
  },
  {
   "cell_type": "markdown",
   "id": "c6780e89-437b-47fb-be02-a3eabfc0db78",
   "metadata": {},
   "source": [
    "#### One-dimensional and two-dimensional arrays\n",
    "If we have a one-dimensional array and a two-dimensional array, then the one-dimensional array is broadcast across each row of the two dimensional array by creating a second copy to result in a new two-dimensional array:"
   ]
  },
  {
   "cell_type": "code",
   "execution_count": 32,
   "id": "0b1da519-541f-46a8-9397-69658e978d6b",
   "metadata": {},
   "outputs": [
    {
     "name": "stdout",
     "output_type": "stream",
     "text": [
      "[[3 6 9]\n",
      " [3 6 9]]\n"
     ]
    }
   ],
   "source": [
    "# Create arrays\n",
    "array_01 = np.array([[1, 2, 3],\n",
    "                     [1, 2, 3]])\n",
    "array_02 = np.array([2, 4, 6])\n",
    "\n",
    "# Print broadcast result\n",
    "print(array_01 + array_02)"
   ]
  },
  {
   "cell_type": "code",
   "execution_count": 33,
   "id": "5f51d9f7-b55a-47c3-9906-72bc6e428182",
   "metadata": {},
   "outputs": [
    {
     "name": "stdout",
     "output_type": "stream",
     "text": [
      "[[3 6 9]\n",
      " [3 6 9]]\n"
     ]
    }
   ],
   "source": [
    "# From scratch\n",
    "# Create array and scalar\n",
    "list_01 = [[1, 2, 3],\n",
    "           [1, 2, 3]]\n",
    "list_02 = np.array([2, 4, 6])\n",
    "\n",
    "# Print broadcast result\n",
    "output = []\n",
    "for array in list_01:\n",
    "    row = []\n",
    "    for i in range(len(array)):\n",
    "        row.append(array[i] + list_02[i])\n",
    "    output.append(row)\n",
    "\n",
    "print(np.array(output))"
   ]
  },
  {
   "cell_type": "markdown",
   "id": "eaf218b4-fbcb-4caa-aae6-e405ee2d6a47",
   "metadata": {},
   "source": [
    "### Limitations of broadcasting\n",
    "Broadcasting doesn't work for all cases and imposes a strict rule for broadcasting to be performed:\n",
    "- the shape of each dimension in the arrays must be equal, or one has the dimension of size 1\n",
    "- the dimensions are considered in reverse order, starting with the trailing dimension (e.g. looking at columns before rows in a two-dimensional case)\n",
    "- NumPy will in effect pad missing dimensions with a size of 1 when comparing arrays (in the example below, the shape of `array_02` will effectively be interpreted by NumPy as `1, 3`"
   ]
  },
  {
   "cell_type": "code",
   "execution_count": 34,
   "id": "0351fc52-72fa-4383-8372-24e53bfc6761",
   "metadata": {},
   "outputs": [
    {
     "name": "stdout",
     "output_type": "stream",
     "text": [
      "(2, 3)\n",
      "(3,)\n"
     ]
    }
   ],
   "source": [
    "# Create arrays\n",
    "array_01 = np.array([[1, 2, 3],\n",
    "                     [1, 2, 3]])\n",
    "array_02 = np.array([2, 4, 6])\n",
    "\n",
    "# Print arrays shapes\n",
    "print(array_01.shape)\n",
    "print(array_02.shape)"
   ]
  },
  {
   "cell_type": "markdown",
   "id": "361fe75d-b59d-4162-932f-d73984c2467a",
   "metadata": {},
   "source": [
    "# 07 - Vectors and vector arithmetic\n",
    "Vectors are used in machine learning in the description of machine learning and processes (e.g. the target variable $y$).\n",
    "\n",
    "## What is a vector\n",
    "- a vector is a tuple of one or more values, a list of numbers\n",
    "- vector algebra are the operations performed on the numbers in the list\n",
    "\n",
    "**Math notation**:  \n",
    "$v = \\left(v_{1}, v_{2}, v_{3}\\right)$  \n",
    "or  \n",
    "$v = \n",
    "\\begin{pmatrix} \n",
    "v_{1} \\\\\n",
    "v_{2} \\\\\n",
    "v_{3}\\end{pmatrix}$  \n",
    "where $v_{1}, v_{2}, v_{3}$ are scalar, often real, values.\n",
    "\n",
    "In machine learning, when training an algorithm, it is common to represent the target variable as a vector $y$. Vectors are usually introduced with a geometric analogy where a vector represents a points or a coordinate in an $n$-dimensional space, where $n$ is the number of dimensions. It is also thought of as a line from the origin of the vector space with a direction and magnitude.  \n",
    "\n",
    "These are a good starting point, but machine learning applications often consider very high dimensional vectors, where some of these analogies fail to hold. The vector-as-coordinates analogy is the most compelling in machine learning.\n",
    "\n",
    "## Defining a vector\n",
    "A vector can be represented with a NumPy array."
   ]
  },
  {
   "cell_type": "code",
   "execution_count": 36,
   "id": "a7e1c557-85c8-4d37-8d57-abc1eeb262e1",
   "metadata": {},
   "outputs": [
    {
     "name": "stdout",
     "output_type": "stream",
     "text": [
      "[1 2 3]\n"
     ]
    }
   ],
   "source": [
    "# Creating a vector\n",
    "v = np.array([1, 2, 3])\n",
    "print(v)"
   ]
  },
  {
   "cell_type": "code",
   "execution_count": 37,
   "id": "a2399d81-240f-4554-bce5-a810b3d798d7",
   "metadata": {},
   "outputs": [
    {
     "name": "stdout",
     "output_type": "stream",
     "text": [
      "[1 2 3]\n"
     ]
    }
   ],
   "source": [
    "# From scratch\n",
    "# Creating a vector\n",
    "v = [1, 2, 3]\n",
    "print(np.array(v))"
   ]
  },
  {
   "cell_type": "markdown",
   "id": "0c9129dc-632f-437b-8bf0-7dff6e259638",
   "metadata": {},
   "source": [
    "## Vector arithmetic\n",
    "### Vector addition\n",
    "- two vectors of equal length can be added together to create a new third vector\n",
    "- the new vector has the same length as the other two vectors\n",
    "- each element of the new vector is calculated as the addition of the elements of the other vectors at the same index\n",
    "\n",
    "**Math notation:**  \n",
    "$c = a + b$  \n",
    "$c = \\left(a_{1} + b_{1}, a_{2} + b_{2}, a_{3} + b_{3}\\right)$  "
   ]
  },
  {
   "cell_type": "code",
   "execution_count": 38,
   "id": "b405ae95-d68b-450d-9c55-97a094419ee8",
   "metadata": {},
   "outputs": [
    {
     "name": "stdout",
     "output_type": "stream",
     "text": [
      "[2 4 6]\n"
     ]
    }
   ],
   "source": [
    "# Creating vectors\n",
    "a = np.array([1, 2, 3])\n",
    "b = np.array([1, 2, 3])\n",
    "\n",
    "# Print vector addition result\n",
    "print(a + b)"
   ]
  },
  {
   "cell_type": "code",
   "execution_count": 41,
   "id": "cae44cea-7d5e-4e31-b3f9-c8f4d1669912",
   "metadata": {},
   "outputs": [
    {
     "name": "stdout",
     "output_type": "stream",
     "text": [
      "[2 4 6]\n"
     ]
    }
   ],
   "source": [
    "# From scratch\n",
    "# Creating vectors\n",
    "a = [1, 2, 3]\n",
    "b = [1, 2, 3]\n",
    "\n",
    "# Print vector addition result\n",
    "output = [a[i] + b[i] for i in range(len(a))]\n",
    "print(np.array(output))"
   ]
  },
  {
   "cell_type": "markdown",
   "id": "8172ed97-c52e-4ed0-9f3b-9e283c28b332",
   "metadata": {},
   "source": [
    "### Vector subtraction\n",
    "- one vector can be subtracted from another vector with equal length to create a new third vector\n",
    "- the new vector has the same length as the other two vectors\n",
    "- each element of the new vector is calculated as the subtraction of the elements of the other vectors at the same index\n",
    "\n",
    "**Math notation:**  \n",
    "$c = a - b$  \n",
    "$c = \\left(a_{1} - b_{1}, a_{2} - b_{2}, a_{3} - b_{3}\\right)$  "
   ]
  },
  {
   "cell_type": "code",
   "execution_count": 44,
   "id": "b055f923-baff-4ac7-af55-27709730af97",
   "metadata": {},
   "outputs": [
    {
     "name": "stdout",
     "output_type": "stream",
     "text": [
      "[0 0 0]\n"
     ]
    }
   ],
   "source": [
    "# Creating vectors\n",
    "a = np.array([1, 2, 3])\n",
    "b = np.array([0.5, 0.5, 0.5])\n",
    "\n",
    "# Print vector subtraction result\n",
    "print(a - b)"
   ]
  },
  {
   "cell_type": "code",
   "execution_count": 46,
   "id": "9c9797d6-6e82-4210-91f4-37c19fcdd62b",
   "metadata": {},
   "outputs": [
    {
     "name": "stdout",
     "output_type": "stream",
     "text": [
      "[0.5 1.5 2.5]\n"
     ]
    }
   ],
   "source": [
    "# From scratch\n",
    "# Creating vectors\n",
    "a = [1, 2, 3]\n",
    "b = [0.5, 0.5, 0.5]\n",
    "\n",
    "# Print vector subtraction result\n",
    "output = [a[i] - b[i] for i in range(len(a))]\n",
    "print(np.array(output))"
   ]
  },
  {
   "cell_type": "markdown",
   "id": "74d59721-958a-453a-8151-9fe88266ce8e",
   "metadata": {},
   "source": [
    "### Vector multiplication\n",
    "- two vectors of equal length can be multiplied together\n",
    "- the new vector has the same length as the other two vectors\n",
    "- each element of the new vector is calculated as the product of the elements of the other vectors at the same index\n",
    "\n",
    "**Math notation:**  \n",
    "$c = a \\times b$  \n",
    "$c = \\left(a_{1} \\times b_{1}, a_{2} \\times b_{2}, a_{3} \\times b_{3}\\right)$  \n",
    "$c = \\left(a_{1}b_{1}, a_{2}b_{2}, a_{3}b_{3}\\right)$  "
   ]
  },
  {
   "cell_type": "code",
   "execution_count": 48,
   "id": "6dd07ad3-b82c-4a50-b4cf-665ce26a795f",
   "metadata": {},
   "outputs": [
    {
     "name": "stdout",
     "output_type": "stream",
     "text": [
      "[1 4 9]\n"
     ]
    }
   ],
   "source": [
    "# Creating vectors\n",
    "a = np.array([1, 2, 3])\n",
    "b = np.array([1, 2, 3])\n",
    "\n",
    "# Print vector multiplication result\n",
    "print(a * b)"
   ]
  },
  {
   "cell_type": "code",
   "execution_count": 50,
   "id": "7d09932e-5e45-4e9d-8819-7c000dd85b0d",
   "metadata": {},
   "outputs": [
    {
     "name": "stdout",
     "output_type": "stream",
     "text": [
      "[1 4 9]\n"
     ]
    }
   ],
   "source": [
    "# From scratch\n",
    "# Creating vectors\n",
    "a = [1, 2, 3]\n",
    "b = [1, 2, 3]\n",
    "\n",
    "# Print vector multiplication result\n",
    "output = [a[i] * b[i] for i in range(len(a))]\n",
    "print(np.array(output))"
   ]
  },
  {
   "cell_type": "markdown",
   "id": "6091a5e7-1085-4a71-b289-9aa1e83e761d",
   "metadata": {},
   "source": [
    "### Vector division\n",
    "- two vectors of equal length can be divided\n",
    "- the new vector has the same length as the other two vectors\n",
    "- each element of the new vector is calculated as the division of the elements of the other vectors at the same index\n",
    "\n",
    "**Math notation:**  \n",
    "$c = \\frac{a}{b}$  \n",
    "$c = \\left(\\frac{a_{1}}{b_{1}}, \\frac{a_{2}}{b_{2}}, \\frac{a_{3}}{b_{3}}\\right)$  "
   ]
  },
  {
   "cell_type": "code",
   "execution_count": 51,
   "id": "a30b3731-dbff-4838-b535-93e2f84cb3d2",
   "metadata": {},
   "outputs": [
    {
     "name": "stdout",
     "output_type": "stream",
     "text": [
      "[1. 1. 1.]\n"
     ]
    }
   ],
   "source": [
    "# Creating vectors\n",
    "a = np.array([1, 2, 3])\n",
    "b = np.array([1, 2, 3])\n",
    "\n",
    "# Print vector division result\n",
    "print(a / b)"
   ]
  },
  {
   "cell_type": "code",
   "execution_count": 52,
   "id": "a3f3bd1c-4350-46a4-95b6-614554f80d1e",
   "metadata": {},
   "outputs": [
    {
     "name": "stdout",
     "output_type": "stream",
     "text": [
      "[1. 1. 1.]\n"
     ]
    }
   ],
   "source": [
    "# From scratch\n",
    "# Creating vectors\n",
    "a = [1, 2, 3]\n",
    "b = [1, 2, 3]\n",
    "\n",
    "# Print vector division result\n",
    "output = [a[i] / b[i] for i in range(len(a))]\n",
    "print(np.array(output))"
   ]
  },
  {
   "cell_type": "markdown",
   "id": "dde33e2b-7e05-4230-8d8c-7c57b123bfff",
   "metadata": {},
   "source": [
    "## Vector dot product\n",
    "- the dot product consists in calculated the sum of the multiplied elements of two vectors of the same length to obtain a scalar\n",
    "- it's a called dot product because we use the $\\cdot$ (dot) operator\n",
    "- it's a key tool for calculating vector projections, vector decomposition, and determine orthogonality\n",
    "- it can be used in machine learning to calculate the weighted sum of a vector\n",
    "\n",
    "**Math notation:**  \n",
    "$c = a \\cdot b$  \n",
    "$c = \\left(a_{1} \\times b_{1} + a_{2} \\times b_{2} + a_{3} \\times b_{3}\\right)$  \n",
    "$c = \\left(a_{1}b_{1} + a_{2}b_{2} + a_{3}b_{3}\\right)$  "
   ]
  },
  {
   "cell_type": "code",
   "execution_count": 53,
   "id": "603e823a-d511-4aa5-bb6a-b057e22a7319",
   "metadata": {},
   "outputs": [
    {
     "name": "stdout",
     "output_type": "stream",
     "text": [
      "14\n"
     ]
    }
   ],
   "source": [
    "# Creating vectors\n",
    "a = np.array([1, 2, 3])\n",
    "b = np.array([1, 2, 3])\n",
    "\n",
    "# Print vector division result\n",
    "print(a.dot(b))"
   ]
  },
  {
   "cell_type": "code",
   "execution_count": 60,
   "id": "fc885c62-2359-4c23-901c-b1787df5865c",
   "metadata": {},
   "outputs": [
    {
     "name": "stdout",
     "output_type": "stream",
     "text": [
      "14\n"
     ]
    }
   ],
   "source": [
    "# From scratch\n",
    "# Creating vectors\n",
    "a = [1, 2, 3]\n",
    "b = [1, 2, 3]\n",
    "\n",
    "# Print vector dot product result\n",
    "output = 0\n",
    "for i in range(len(a)):\n",
    "    product = a[i] * b[i]\n",
    "    output += product\n",
    "print(np.array(output))"
   ]
  },
  {
   "cell_type": "markdown",
   "id": "544a3385-a46f-48f7-a452-6fd9d29dab3c",
   "metadata": {},
   "source": [
    "### Vector-scalar multiplication\n",
    "- a vector can be multiplied by a scalar\n",
    "- this results in scaling the magnitude of the vector\n",
    "- the new vector has the same length as the original vector\n",
    "- the multiplication is performed on each element\n",
    "- vector-scalar addition, subtraction and division are performed the same way\n",
    "\n",
    "**Math notation:**  \n",
    "$c = s \\times v$  \n",
    "$c = sv$  \n",
    "$c = \\left(s \\times v_{1}, s \\times v_{2}, s \\times v_{3}\\right)$  "
   ]
  },
  {
   "cell_type": "code",
   "execution_count": 64,
   "id": "3dc72520-cc99-4144-8896-56919b61ab38",
   "metadata": {},
   "outputs": [
    {
     "name": "stdout",
     "output_type": "stream",
     "text": [
      "[0.5 1.  1.5]\n"
     ]
    }
   ],
   "source": [
    "# From scratch\n",
    "# Creating vectors\n",
    "a = [1, 2, 3]\n",
    "s = 0.5\n",
    "\n",
    "# Print vector dot product result\n",
    "output = []\n",
    "for i in range(len(a)):\n",
    "    product = a[i] * s\n",
    "    output.append(product)\n",
    "print(np.array(output))"
   ]
  },
  {
   "cell_type": "markdown",
   "id": "0b068bef-8c3c-40a1-bf48-2caca0244b13",
   "metadata": {},
   "source": [
    "## 08 - Vector norms\n",
    "\n",
    "Calculating the length or magnitude or vectors can be required:\n",
    "- as a regularization method in machine learning\n",
    "- as part of broader vector or matrix operations\n",
    "\n",
    "There are different ways to calculate vector lengths or magnitudes, called vector norms:\n",
    "- the $L^{1}$ norm is calculated as the sum of the absolute values of the vector\n",
    "- the $L^{2}$ norm is calculated as the square root of the sum of the squared values\n",
    "- the max norm is calculated as the maximum vector values\n",
    "\n",
    "### Vector norm\n",
    "The length of a vector:\n",
    "- is also called vector magnitude or vector norm\n",
    "- is a non-negative number that describes the extent of the vector in space\n",
    "- is always positive except for a vector with all zero values\n",
    "\n",
    "### Vector $L^{1}$ norm\n",
    "The $L^{1}$ norm:\n",
    "- is also called taxicab norm or Manhattan norm\n",
    "- is calculated as the sum of the absolute vector values\n",
    "- is used in machine learning applications where it is important to discriminate between elements that are exactly 0 and elements that are small but non-zero\n",
    "- is used in machine learning applications as a regularization method to keep coefficients small and the model less complex\n",
    "\n",
    "#### Math notation\n",
    "$L^{1}(v)=\\|v\\|_{1}$  \n",
    "$\\|v\\|_{1} = |a_{1}| + |a_{2}| + |a_{3}|$"
   ]
  },
  {
   "cell_type": "code",
   "execution_count": 11,
   "id": "edf46984-b55c-4dd7-b7c5-a5ee1599b678",
   "metadata": {},
   "outputs": [
    {
     "name": "stdout",
     "output_type": "stream",
     "text": [
      "6.0\n"
     ]
    }
   ],
   "source": [
    "# With NumPy\n",
    "from numpy.linalg import norm\n",
    "## Creating vector\n",
    "v = np.array([1, 2, 3])\n",
    "\n",
    "## Calculating the L1 norm\n",
    "l1_norm = norm(v, 1)\n",
    "print(l1_norm)"
   ]
  },
  {
   "cell_type": "code",
   "execution_count": 12,
   "id": "b92d3742-52f6-47e3-bbe5-06edab1e5d18",
   "metadata": {},
   "outputs": [
    {
     "name": "stdout",
     "output_type": "stream",
     "text": [
      "6\n"
     ]
    }
   ],
   "source": [
    "# From scratch\n",
    "## Creating vector\n",
    "v = [1, 2, 3]\n",
    "\n",
    "## Creating L1 norm\n",
    "def calculate_l1_norm(v: list):\n",
    "    \"\"\"Calculates the L1 norm of a vector\n",
    "\n",
    "    Args:\n",
    "        v (list): the vector whose L1 norm needs to be extracted\n",
    "\n",
    "    Returns:\n",
    "        int: a zero or positive number, the value of the L1 norm of the vector\n",
    "    \"\"\"\n",
    "    l1_norm = 0\n",
    "    for i in v:\n",
    "        l1_norm += abs(i)\n",
    "    \n",
    "    return float(l1_norm)\n",
    "\n",
    "## Calculating the L1 norm\n",
    "l1_norm = calculate_l1_norm(v)\n",
    "print(l1_norm)"
   ]
  },
  {
   "cell_type": "markdown",
   "id": "060681ed-63f2-41c0-994c-12b2e0b1302a",
   "metadata": {},
   "source": [
    "### Vector $L^{2}$ norm\n",
    "The $L^{2}$ norm:\n",
    "- is also called Euclidean norm\n",
    "- is calculated as the square root of the sum of the squared vector values\n",
    "- is used in machine learning applications as a regularization method to keep the coefficients of the model small and the model less complex\n",
    "- is the most commonly used vector norm in machine learning\n",
    "\n",
    "#### Math notation\n",
    "$L^{2}(v)=\\|v\\|_{2}$  \n",
    "$\\|v\\|_{2}=\\sqrt{a^{2}_{1} + a^{2}_{2} + a^{2}_{3}}$"
   ]
  },
  {
   "cell_type": "code",
   "execution_count": 14,
   "id": "7ddf5554-2559-4556-b4e8-53048242ccda",
   "metadata": {},
   "outputs": [
    {
     "name": "stdout",
     "output_type": "stream",
     "text": [
      "3.7416573867739413\n"
     ]
    }
   ],
   "source": [
    "# With NumPy\n",
    "from numpy.linalg import norm\n",
    "## Creating vector\n",
    "v = np.array([1, 2, 3])\n",
    "\n",
    "## Calculating the L2 norm\n",
    "l2_norm = norm(v, 2)\n",
    "print(l2_norm)"
   ]
  },
  {
   "cell_type": "code",
   "execution_count": 13,
   "id": "9726282d-9655-4863-9a3c-f8a4102f1328",
   "metadata": {},
   "outputs": [
    {
     "name": "stdout",
     "output_type": "stream",
     "text": [
      "3.7416573867739413\n"
     ]
    }
   ],
   "source": [
    "# From scratch\n",
    "## Creating vector\n",
    "v = [1, 2, 3]\n",
    "\n",
    "## Creating L2 norm\n",
    "def calculate_l2_norm(v: list):\n",
    "    \"\"\"Calculates the L1 norm of a vector\n",
    "\n",
    "    Args:\n",
    "        v (list): the vector whose L2 norm needs to be extracted\n",
    "\n",
    "    Returns:\n",
    "        int: a zero or positive number, the value of the L2 norm of the vector\n",
    "    \"\"\"\n",
    "    l2_norm = 0\n",
    "    for i in v:\n",
    "        l2_norm += (i)**2\n",
    "    \n",
    "    return float(l2_norm**(1/2))\n",
    "\n",
    "## Calculating the L2 norm\n",
    "l2_norm = calculate_l2_norm(v)\n",
    "print(l2_norm)"
   ]
  },
  {
   "cell_type": "markdown",
   "id": "ca796a5c-48d4-4458-a00e-b6153e8bdd7b",
   "metadata": {},
   "source": [
    "### Vector max norm\n",
    "\n",
    "The max norm:\n",
    "- is calculated as the maximum vector value\n",
    "- is used in machine learning applications as a regularization method called max norm regularization, e.g. on weights in neural networks\n",
    "\n",
    "#### Math notation\n",
    "$L^{inf} = \\|v\\|_{inf}$  \n",
    "$L^{inf} = max \\space a_{1}, a_{2}, a_{3}$"
   ]
  },
  {
   "cell_type": "code",
   "execution_count": 18,
   "id": "f3bea7f5-a635-4355-aea6-26fe2b4e50ce",
   "metadata": {},
   "outputs": [],
   "source": [
    "# With NumPy\n",
    "from math import inf\n",
    "from numpy.linalg import norm\n",
    "\n",
    "## Creating vector\n",
    "v = np.array([1, 2, 3])\n",
    "\n",
    "## Calculating the Linf norm\n",
    "max_norm = norm(v, inf)\n",
    "print(max_norm)"
   ]
  },
  {
   "cell_type": "code",
   "execution_count": 20,
   "id": "6ccd2bdb-277d-4b7c-9607-9c5707b4d47c",
   "metadata": {},
   "outputs": [
    {
     "name": "stdout",
     "output_type": "stream",
     "text": [
      "3.0\n"
     ]
    }
   ],
   "source": [
    "# From scratch\n",
    "## Creating vector\n",
    "v = [1, 2, 3]\n",
    "\n",
    "## Creating max norm\n",
    "def calculate_max_norm(v: list):\n",
    "    \"\"\"Calculates the L1 norm of a vector\n",
    "\n",
    "    Args:\n",
    "        v (list): the vector whose max norm needs to be extracted\n",
    "\n",
    "    Returns:\n",
    "        int: a zero or positive number, the value of the max norm of the vector\n",
    "    \"\"\"\n",
    "    max_norm = 0\n",
    "    for i in v:\n",
    "        if i > max_norm:\n",
    "            max_norm = i\n",
    "    \n",
    "    return float(max_norm)\n",
    "\n",
    "## Calculating the max norm\n",
    "max_norm = calculate_max_norm(v)\n",
    "print(max_norm)"
   ]
  },
  {
   "cell_type": "markdown",
   "id": "ad0cca30-2d1b-457a-bae9-ee8b9f108d29",
   "metadata": {},
   "source": [
    "## 09 - Matrices and matrix arithmetic\n",
    "Matrices:\n",
    "- are a foundational element of linear algebra\n",
    "- are used in the descriptions of algorithms and processes in machine learning (e.g. the input variable $X$ when training a model)\n",
    "\n",
    "### What is a matrix\n",
    "- a matrix is a two-dimensional array, or table, of scalars with one or more columns and one or more rows\n",
    "- a matrix is often represented with an uppercase letter (e.g. $A$)\n",
    "- entries of a matrix are referred to by their two-dimensional subscript of row ($i$) and column ($j$), such as $a_{i, j}$\n",
    "- the geometry analogy used to help understand vectors and some of their operations does not hold with matrices\n",
    "- a vector can be considered as a matrix with one column and multiple rows\n",
    "\n",
    "\n",
    "#### Math notation\n",
    "A 3-row, 2-column matrix:  \n",
    "$A = ((a_{1, 1}, a_{1, 2}), (a_{2, 1}, a_{2, 2}), (a_{3, 1}, a_{3, 2}))$  \n",
    "\n",
    "Horizontal notation:  \n",
    "$A = \\begin{pmatrix}\n",
    "     a_{1, 1} & a_{1, 2} \\\\\n",
    "     a_{2, 1} & a_{2, 2} \\\\\n",
    "     a_{3, 1} & a_{3, 2} \\\\\n",
    "\\end{pmatrix}$  \n",
    "\n",
    "Dimensions of a matrix:  \n",
    "$m \\times n$  \n",
    "where:  \n",
    "- $m$ is the number of rows\n",
    "- $n$ is the number of columns"
   ]
  },
  {
   "cell_type": "code",
   "execution_count": 10,
   "id": "d2fe5112-de8f-44dc-b810-6d7d77a0f0e3",
   "metadata": {},
   "outputs": [
    {
     "name": "stdout",
     "output_type": "stream",
     "text": [
      "[[1 2 3]\n",
      " [4 5 6]]\n"
     ]
    }
   ],
   "source": [
    "# With NumPy\n",
    "## Create matrix\n",
    "A = np.array([[1, 2, 3],\n",
    "              [4, 5, 6]])\n",
    "print(A)"
   ]
  },
  {
   "cell_type": "code",
   "execution_count": 14,
   "id": "de488a9e-9dea-432d-9c63-a798bdc37942",
   "metadata": {},
   "outputs": [
    {
     "name": "stdout",
     "output_type": "stream",
     "text": [
      "[1, 2, 3]\n",
      "[4, 5, 6]\n"
     ]
    }
   ],
   "source": [
    "# From scratch\n",
    "## Create matrix\n",
    "A = [[1, 2, 3],\n",
    "    [4, 5, 6]]\n",
    "\n",
    "for row in A:\n",
    "    print(row)"
   ]
  },
  {
   "cell_type": "markdown",
   "id": "be4bc90d-cd8a-49b2-b58e-a298ab8287d1",
   "metadata": {},
   "source": [
    "### Matrix arithmetic\n",
    "All operations in this section are performed element-wise:\n",
    "- between two matrices of equal size\n",
    "- resulting in a new matrix with the same size\n",
    "\n",
    "#### Matrix addition\n",
    "Two matrices with the same dimensions can be added together to create a new third matrix.\n",
    "\n",
    "##### Math notation\n",
    "$C = A + B$  \n",
    "\n",
    "$C = \\begin{pmatrix}\n",
    "     a_{1, 1} + b_{1, 1} & a_{1, 2} + b_{1, 2} \\\\\n",
    "     a_{2, 1} + b_{2, 1} & a_{2, 2} + b_{2, 2} \\\\\n",
    "     a_{3, 1} + b_{3, 1} & a_{3, 2} + b_{3, 2} \\\\\n",
    "\\end{pmatrix}$  \n",
    "\n",
    "$C[0, 0] = A[0, 0] + B[0, 0]$  \n",
    "$C[1, 0] = A[1, 0] + B[1, 0]$  \n",
    "$C[2, 0] = A[2, 0] + B[2, 0]$  \n",
    "$C[0, 1] = A[0, 1] + B[0, 1]$  \n",
    "$C[1, 1] = A[1, 1] + B[1, 1]$  \n",
    "$C[2, 1] = A[2, 1] + B[2, 1]$  "
   ]
  },
  {
   "cell_type": "code",
   "execution_count": 21,
   "id": "2f83fecb-1b10-4c46-9799-7ff8c5263764",
   "metadata": {},
   "outputs": [
    {
     "name": "stdout",
     "output_type": "stream",
     "text": [
      "A =\n",
      "[[1 2 3]\n",
      " [4 5 6]]\n",
      "\n",
      "B =\n",
      "[[1 2 3]\n",
      " [4 5 6]]\n",
      "\n",
      "C =\n",
      "[[ 2  4  6]\n",
      " [ 8 10 12]]\n",
      "\n"
     ]
    }
   ],
   "source": [
    "# With NumPy\n",
    "## Create matrices\n",
    "A = np.array([[1, 2, 3],\n",
    "              [4, 5, 6]])\n",
    "B = np.array([[1, 2, 3],\n",
    "              [4, 5, 6]])\n",
    "\n",
    "print(f\"A =\\n{A}\\n\")\n",
    "print(f\"B =\\n{B}\\n\")\n",
    "\n",
    "## Add matrices\n",
    "C = A + B\n",
    "print(f\"C =\\n{C}\\n\")"
   ]
  },
  {
   "cell_type": "code",
   "execution_count": 98,
   "id": "1b1ca95b-c48b-4e91-b1d9-94add70fe955",
   "metadata": {},
   "outputs": [
    {
     "name": "stdout",
     "output_type": "stream",
     "text": [
      "A = \n",
      "[1, 2, 3]\n",
      "[4, 5, 6]\n",
      "\n",
      "B = \n",
      "[1, 2, 3]\n",
      "[4, 5, 6]\n",
      "\n",
      "C = \n",
      "[2, 4, 6]\n",
      "[8, 10, 12]\n"
     ]
    }
   ],
   "source": [
    "# From scratch\n",
    "## Create matrices\n",
    "A = [[1, 2, 3],\n",
    "    [4, 5, 6]]\n",
    "\n",
    "B = [[1, 2, 3],\n",
    "    [4, 5, 6]]\n",
    "\n",
    "print(\"A = \")\n",
    "for row in A:\n",
    "    print(row)\n",
    "    \n",
    "print(\"\\nB = \")\n",
    "for row in B:\n",
    "    print(row)\n",
    "    \n",
    "## Add matrices\n",
    "def add_matrices(A, B):\n",
    "    C = []\n",
    "    for i in range(0, len(A)):\n",
    "        C.append([])\n",
    "        for j in range(0, len(A[0])):\n",
    "            C_ij = A[i][j] + B[i][j]\n",
    "            C[i].append(C_ij)\n",
    "    return C\n",
    "\n",
    "print(\"\\nC = \")\n",
    "C = add_matrices(A, B)\n",
    "for row in C:\n",
    "    print(row)"
   ]
  },
  {
   "cell_type": "markdown",
   "id": "21ecffff-36ec-4a9c-97aa-8a284365b219",
   "metadata": {},
   "source": [
    "#### Matrix subtraction\n",
    "One matrix can be subtracted from another matrix with the same dimensions. \n",
    "\n",
    "##### Math notation\n",
    "$C = A + B$  \n",
    "\n",
    "$C = \\begin{pmatrix}\n",
    "     a_{1, 1} - b_{1, 1} & a_{1, 2} - b_{1, 2} \\\\\n",
    "     a_{2, 1} - b_{2, 1} & a_{2, 2} - b_{2, 2} \\\\\n",
    "     a_{3, 1} - b_{3, 1} & a_{3, 2} - b_{3, 2} \\\\\n",
    "\\end{pmatrix}$  \n",
    "\n",
    "$C[0, 0] = A[0, 0] - B[0, 0]$  \n",
    "$C[1, 0] = A[1, 0] - B[1, 0]$  \n",
    "$C[2, 0] = A[2, 0] - B[2, 0]$  \n",
    "$C[0, 1] = A[0, 1] - B[0, 1]$  \n",
    "$C[1, 1] = A[1, 1] - B[1, 1]$  \n",
    "$C[2, 1] = A[2, 1] - B[2, 1]$  "
   ]
  },
  {
   "cell_type": "code",
   "execution_count": 27,
   "id": "55829c34-13d7-4aa2-90b5-a330bf77a634",
   "metadata": {},
   "outputs": [
    {
     "name": "stdout",
     "output_type": "stream",
     "text": [
      "A =\n",
      "[[1 2 3]\n",
      " [4 5 6]]\n",
      "\n",
      "B =\n",
      "[[1 2 3]\n",
      " [4 5 6]]\n",
      "\n",
      "C =\n",
      "[[0 0 0]\n",
      " [0 0 0]]\n",
      "\n"
     ]
    }
   ],
   "source": [
    "# With NumPy\n",
    "## Create matrices\n",
    "A = np.array([[1, 2, 3],\n",
    "              [4, 5, 6]])\n",
    "B = np.array([[1, 2, 3],\n",
    "              [4, 5, 6]])\n",
    "\n",
    "print(f\"A =\\n{A}\\n\")\n",
    "print(f\"B =\\n{B}\\n\")\n",
    "\n",
    "## Add matrices\n",
    "C = A - B\n",
    "print(f\"C =\\n{C}\\n\")"
   ]
  },
  {
   "cell_type": "code",
   "execution_count": 96,
   "id": "2e117d6e-0386-4914-b513-1ad6f15d883d",
   "metadata": {},
   "outputs": [
    {
     "name": "stdout",
     "output_type": "stream",
     "text": [
      "A = \n",
      "[1, 2, 3]\n",
      "[4, 5, 6]\n",
      "\n",
      "B = \n",
      "[1, 2, 3]\n",
      "[4, 5, 6]\n",
      "\n",
      "C = \n",
      "[0, 0, 0]\n",
      "[0, 0, 0]\n"
     ]
    }
   ],
   "source": [
    "# From scratch\n",
    "## Create matrices\n",
    "A = [[1, 2, 3],\n",
    "     [4, 5, 6]]\n",
    "\n",
    "B = [[1, 2, 3],\n",
    "     [4, 5, 6]]\n",
    "\n",
    "print(\"A = \")\n",
    "for row in A:\n",
    "    print(row)\n",
    "    \n",
    "print(\"\\nB = \")\n",
    "for row in B:\n",
    "    print(row)\n",
    "    \n",
    "## Add matrices\n",
    "def subtract_matrices(A, B):\n",
    "    C = []\n",
    "    for i in range(0, len(A)):\n",
    "        C.append([])\n",
    "        for j in range(0, len(A[0])):\n",
    "            C_ij = A[i][j] - B[i][j]\n",
    "            C[i].append(C_ij)\n",
    "    return C\n",
    "\n",
    "print(\"\\nC = \")\n",
    "C = subtract_matrices(A, B)\n",
    "for row in C:\n",
    "    print(row)"
   ]
  },
  {
   "cell_type": "markdown",
   "id": "e70e1db9-9b67-431a-9b89-b8017d399f96",
   "metadata": {},
   "source": [
    "#### Matrix multiplication (Hadamart product)\n",
    "- two matrices the same size can be multiplied together\n",
    "- this is called element-wise matrix multiplication or Hadamart product\n",
    "- it isn't the typical operation referred to by matrix multiplication\n",
    "- a different operator, $\\circ$, is used\n",
    "\n",
    "##### Math notation\n",
    "$C = A \\circ B$  \n",
    "\n",
    "$C = \\begin{pmatrix}\n",
    "     a_{1, 1} \\times b_{1, 1} & a_{1, 2} \\times b_{1, 2} \\\\\n",
    "     a_{2, 1} \\times b_{2, 1} & a_{2, 2} \\times b_{2, 2} \\\\\n",
    "     a_{3, 1} \\times b_{3, 1} & a_{3, 2} \\times b_{3, 2} \\\\\n",
    "\\end{pmatrix}$  \n",
    "\n",
    "$C[0, 0] = A[0, 0] \\times B[0, 0]$  \n",
    "$C[1, 0] = A[1, 0] \\times B[1, 0]$  \n",
    "$C[2, 0] = A[2, 0] \\times B[2, 0]$  \n",
    "$C[0, 1] = A[0, 1] \\times B[0, 1]$  \n",
    "$C[1, 1] = A[1, 1] \\times B[1, 1]$  \n",
    "$C[2, 1] = A[2, 1] \\times B[2, 1]$  "
   ]
  },
  {
   "cell_type": "code",
   "execution_count": 31,
   "id": "4f729d3a-1389-43ae-b7ad-83fd44873a4d",
   "metadata": {},
   "outputs": [
    {
     "name": "stdout",
     "output_type": "stream",
     "text": [
      "A =\n",
      "[[1 2 3]\n",
      " [4 5 6]]\n",
      "\n",
      "B =\n",
      "[[1 2 3]\n",
      " [4 5 6]]\n",
      "\n",
      "C =\n",
      "[[ 1  4  9]\n",
      " [16 25 36]]\n",
      "\n"
     ]
    }
   ],
   "source": [
    "# With NumPy\n",
    "## Create matrices\n",
    "A = np.array([[1, 2, 3],\n",
    "              [4, 5, 6]])\n",
    "B = np.array([[1, 2, 3],\n",
    "              [4, 5, 6]])\n",
    "\n",
    "print(f\"A =\\n{A}\\n\")\n",
    "print(f\"B =\\n{B}\\n\")\n",
    "\n",
    "## Add matrices\n",
    "C = A * B\n",
    "print(f\"C =\\n{C}\\n\")"
   ]
  },
  {
   "cell_type": "code",
   "execution_count": 99,
   "id": "1f848330-1f63-482f-a012-29d0210c4c5b",
   "metadata": {},
   "outputs": [
    {
     "name": "stdout",
     "output_type": "stream",
     "text": [
      "A = \n",
      "[1, 2, 3]\n",
      "[4, 5, 6]\n",
      "\n",
      "B = \n",
      "[1, 2, 3]\n",
      "[4, 5, 6]\n",
      "\n",
      "C = \n",
      "[1, 4, 9]\n",
      "[16, 25, 36]\n"
     ]
    }
   ],
   "source": [
    "# From scratch\n",
    "## Create matrices\n",
    "A = [[1, 2, 3],\n",
    "     [4, 5, 6]]\n",
    "\n",
    "B = [[1, 2, 3],\n",
    "     [4, 5, 6]]\n",
    "\n",
    "print(\"A = \")\n",
    "for row in A:\n",
    "    print(row)\n",
    "    \n",
    "print(\"\\nB = \")\n",
    "for row in B:\n",
    "    print(row)\n",
    "    \n",
    "## Multiply matrices\n",
    "def multiply_matrices(A, B):\n",
    "    C = []\n",
    "    for i in range(0, len(A)):\n",
    "        C.append([])\n",
    "        for j in range(0, len(A[0])):\n",
    "            C_ij = A[i][j] * B[i][j]\n",
    "            C[i].append(C_ij)\n",
    "    return C\n",
    "\n",
    "print(\"\\nC = \")\n",
    "C = multiply_matrices(A, B)\n",
    "for row in C:\n",
    "    print(row)"
   ]
  },
  {
   "cell_type": "markdown",
   "id": "dc321734-1649-4594-8714-e1830b3ce05a",
   "metadata": {},
   "source": [
    "#### Matrix division\n",
    "One matrix can be divided by another matrix with the same dimensions.\n",
    "\n",
    "##### Math notation\n",
    "$C = \\frac{A}{B}$  \n",
    "\n",
    "$C = \\begin{pmatrix}\n",
    "     \\frac{a_{1, 1}}{b_{1, 1}} & \\frac{a_{1, 2}}{b_{1, 2}} \\\\\n",
    "     \\frac{a_{2, 1}}{b_{2, 1}} & \\frac{a_{2, 2}}{b_{2, 2}} \\\\\n",
    "     \\frac{a_{3, 1}}{b_{3, 1}} & \\frac{a_{3, 2}}{b_{3, 2}} \\\\\n",
    "\\end{pmatrix}$  \n",
    "\n",
    "$C[0, 0] = A[0, 0] \\space / \\space B[0, 0]$  \n",
    "$C[1, 0] = A[1, 0] \\space / \\space B[1, 0]$  \n",
    "$C[2, 0] = A[2, 0] \\space / \\space B[2, 0]$  \n",
    "$C[0, 1] = A[0, 1] \\space / \\space B[0, 1]$  \n",
    "$C[1, 1] = A[1, 1] \\space / \\space B[1, 1]$  \n",
    "$C[2, 1] = A[2, 1] \\space / \\space B[2, 1]$  "
   ]
  },
  {
   "cell_type": "code",
   "execution_count": 33,
   "id": "bbe37f52-de89-40b3-9261-0b203766c917",
   "metadata": {},
   "outputs": [
    {
     "name": "stdout",
     "output_type": "stream",
     "text": [
      "A =\n",
      "[[1 2 3]\n",
      " [4 5 6]]\n",
      "\n",
      "B =\n",
      "[[1 2 3]\n",
      " [4 5 6]]\n",
      "\n",
      "C =\n",
      "[[1. 1. 1.]\n",
      " [1. 1. 1.]]\n",
      "\n"
     ]
    }
   ],
   "source": [
    "# With NumPy\n",
    "## Create matrices\n",
    "A = np.array([[1, 2, 3],\n",
    "              [4, 5, 6]])\n",
    "B = np.array([[1, 2, 3],\n",
    "              [4, 5, 6]])\n",
    "\n",
    "print(f\"A =\\n{A}\\n\")\n",
    "print(f\"B =\\n{B}\\n\")\n",
    "\n",
    "## Add matrices\n",
    "C = A / B\n",
    "print(f\"C =\\n{C}\\n\")"
   ]
  },
  {
   "cell_type": "code",
   "execution_count": 101,
   "id": "442cd8f6-c869-415f-a638-95861fe53f65",
   "metadata": {},
   "outputs": [
    {
     "name": "stdout",
     "output_type": "stream",
     "text": [
      "A = \n",
      "[1, 2, 3]\n",
      "[4, 5, 6]\n",
      "\n",
      "B = \n",
      "[1, 2, 3]\n",
      "[4, 5, 6]\n",
      "\n",
      "C = \n",
      "[1.0, 1.0, 1.0]\n",
      "[1.0, 1.0, 1.0]\n"
     ]
    }
   ],
   "source": [
    "# From scratch\n",
    "## Create matrices\n",
    "A = [[1, 2, 3],\n",
    "     [4, 5, 6]]\n",
    "\n",
    "B = [[1, 2, 3],\n",
    "     [4, 5, 6]]\n",
    "\n",
    "print(\"A = \")\n",
    "for row in A:\n",
    "    print(row)\n",
    "    \n",
    "print(\"\\nB = \")\n",
    "for row in B:\n",
    "    print(row)\n",
    "    \n",
    "## Divide matrices\n",
    "def divide_matrices(A, B):\n",
    "    C = []\n",
    "    for i in range(0, len(A)):\n",
    "        C.append([])\n",
    "        for j in range(0, len(A[0])):\n",
    "            C_ij = A[i][j] / B[i][j]\n",
    "            C[i].append(C_ij)\n",
    "    return C\n",
    "\n",
    "print(\"\\nC = \")\n",
    "C = divide_matrices(A, B)\n",
    "for row in C:\n",
    "    print(row)"
   ]
  },
  {
   "cell_type": "markdown",
   "id": "be1517fc-20b0-48ad-a802-3b3d3db88fa5",
   "metadata": {},
   "source": [
    "#### Matrix-matrix multiplication\n",
    "- matrix-matrix multiplication is also called the matrix **dot product**\n",
    "- not all matrices can be multiplied together using the dot product\n",
    "- the number of columns $n$ of the first matrix $A$ must be equal to the number of rows $m$ in the second matrix $B$\n",
    "- the rule above applies for a chain of matrix multiplications where the number of columns in one matrix in the chain must match the number of rows in the following matrix in the chain\n",
    "- if\n",
    "  - matrix $A$ has dimensions $m \\times n$\n",
    "  - matrix $B$ has dimensions $n \\times k$\n",
    "  - then the resulting matrix $C$ equal to $A \\cdot B$ has dimensions $m \\times k$\n",
    "\n",
    "##### Math notation\n",
    "$A = \\begin{pmatrix}\n",
    "     a_{1, 1} & a_{1, 2} \\\\\n",
    "     a_{2, 1} & a_{2, 2} \\\\\n",
    "     a_{3, 1} & a_{3, 2} \\\\\n",
    "\\end{pmatrix}$  \n",
    "\n",
    "$B = \\begin{pmatrix}\n",
    "     b_{1, 1} & b_{1, 2} \\\\\n",
    "     b_{2, 1} & b_{2, 2} \\\\\n",
    "\\end{pmatrix}$  \n",
    "\n",
    "$C = A \\cdot B$  \n",
    "\n",
    "$C = \\begin{pmatrix}\n",
    "     a_{1, 1} \\times b_{1, 1} + a_{1, 2} \\times b_{2, 1} & a_{1, 1} \\times b_{1, 2} + a_{1, 2} \\times b_{2, 2} \\\\\n",
    "     a_{2, 1} \\times b_{1, 1} + a_{2, 2} \\times b_{2, 1} & a_{2, 1} \\times b_{1, 2} + a_{2, 2} \\times b_{2, 2} \\\\\n",
    "     a_{3, 1} \\times b_{1, 1} + a_{3, 2} \\times b_{2, 1} & a_{3, 1} \\times b_{1, 2} + a_{3, 2} \\times b_{2, 2} \\\\\n",
    "\\end{pmatrix}$  \n",
    "\n",
    "$C[0, 0] = A[0, 0] \\times B[0, 0] + A[0, 1] \\times B[1, 0]$  \n",
    "$C[1, 0] = A[1, 0] \\times B[0, 0] + A[1, 1] \\times B[1, 0]$  \n",
    "$C[2, 0] = A[2, 0] \\times B[0, 0] + A[2, 1] \\times B[1, 0]$  \n",
    "$C[0, 1] = A[0, 0] \\times B[0, 1] + A[0, 1] \\times B[1, 1]$  \n",
    "$C[1, 1] = A[1, 0] \\times B[0, 1] + A[1, 1] \\times B[1, 1]$  \n",
    "$C[2, 1] = A[2, 0] \\times B[0, 1] + A[2, 1] \\times B[1, 1]$  "
   ]
  },
  {
   "cell_type": "code",
   "execution_count": 35,
   "id": "6206507d-13a8-4c5f-abdc-c6a1c8d35d6a",
   "metadata": {},
   "outputs": [
    {
     "name": "stdout",
     "output_type": "stream",
     "text": [
      "A =\n",
      "[[1 2]\n",
      " [3 4]\n",
      " [5 6]]\n",
      "\n",
      "B =\n",
      "[[1 2]\n",
      " [3 4]]\n",
      "\n",
      "C =\n",
      "[[ 7 10]\n",
      " [15 22]\n",
      " [23 34]]\n",
      "\n"
     ]
    }
   ],
   "source": [
    "# With NumPy\n",
    "## Create matrices\n",
    "A = np.array([[1, 2],\n",
    "              [3, 4],\n",
    "              [5, 6]])\n",
    "B = np.array([[1, 2],\n",
    "              [3, 4]])\n",
    "\n",
    "print(f\"A =\\n{A}\\n\")\n",
    "print(f\"B =\\n{B}\\n\")\n",
    "\n",
    "## Add matrices\n",
    "C = A.dot(B)\n",
    "print(f\"C =\\n{C}\\n\")"
   ]
  },
  {
   "cell_type": "code",
   "execution_count": 125,
   "id": "817e56f3-9d52-4b23-819d-40f2ac3d7555",
   "metadata": {},
   "outputs": [
    {
     "name": "stdout",
     "output_type": "stream",
     "text": [
      "A = \n",
      "[1, 2]\n",
      "[3, 4]\n",
      "[5, 6]\n",
      "\n",
      "B = \n",
      "[1, 2]\n",
      "[3, 4]\n",
      "\n",
      "C = \n",
      "[7, 10]\n",
      "[15, 22]\n",
      "[23, 34]\n"
     ]
    }
   ],
   "source": [
    "# From scratch\n",
    "## Create matrices\n",
    "A = [[1, 2],\n",
    "     [3, 4],\n",
    "     [5, 6]]\n",
    "\n",
    "B = [[1, 2],\n",
    "     [3, 4]]\n",
    "\n",
    "print(\"A = \")\n",
    "for row in A:\n",
    "    print(row)\n",
    "    \n",
    "print(\"\\nB = \")\n",
    "for row in B:\n",
    "    print(row)\n",
    "    \n",
    "## Calculate dot product of matrices\n",
    "def calculate_dot_product(A, B):\n",
    "    C = []\n",
    "    for i in range(0, len(A)):\n",
    "        C.append([])\n",
    "        for j in range(0, len(A[0])):\n",
    "            C_ij = A[i][0] * B[0][j] + A[i][1] * B[1][j]\n",
    "            C[i].append(C_ij)\n",
    "    return C\n",
    "\n",
    "print(\"\\nC = \")\n",
    "C = calculate_dot_product(A, B)\n",
    "for row in C:\n",
    "    print(row)"
   ]
  },
  {
   "cell_type": "markdown",
   "id": "3d63688f-9954-4dd5-851c-6fa352254a2b",
   "metadata": {},
   "source": [
    "#### Matrix-vector multiplication\n",
    "- a matrix and a vector can be multiplied together...\n",
    "- as long as the rule of matrix multiplication is observed: then umber of columns in the matrix must be equal to the number of items in the vector\n",
    "- the result is always a vector\n",
    "- the operation can be written using the $\\cdot$ notation\n",
    "\n",
    "##### Math notation\n",
    "$c = A \\cdot v$  \n",
    "or more compactly  \n",
    "$c = Av$\n",
    "\n",
    "$A = \\begin{pmatrix}\n",
    "     a_{1, 1} & a_{1, 2} \\\\\n",
    "     a_{2, 1} & a_{2, 2} \\\\\n",
    "     a_{3, 1} & a_{3, 2} \\\\\n",
    "\\end{pmatrix}$\n",
    "\n",
    "$v = \\begin{pmatrix}\n",
    "     v_{1} \\\\\n",
    "     v_{2} \\\\\n",
    "\\end{pmatrix}$  \n",
    "\n",
    "$c = \\begin{pmatrix}\n",
    "     a_{1, 1} \\times v_{1} & a_{1, 2} v_{2} \\\\\n",
    "     a_{2, 1} \\times v_{1} & a_{2, 2} v_{2} \\\\\n",
    "     a_{3, 1} \\times v_{1} & a_{3, 2} v_{2} \\\\\n",
    "\\end{pmatrix}$  \n",
    "or more compactly  \n",
    "$c = \\begin{pmatrix}\n",
    "     a_{1, 1}v_{1} & a_{1, 2}v_{2} \\\\\n",
    "     a_{2, 1}v_{1} & a_{2, 2}v_{2} \\\\\n",
    "     a_{3, 1}v_{1} & a_{3, 2}v_{2} \\\\\n",
    "\\end{pmatrix}$  \n",
    "\n",
    "$C[0] = A[0, 0] \\times v[0] + A[0, 1] \\times v[1]$  \n",
    "$C[1] = A[1, 0] \\times v[0] + A[1, 1] \\times v[1]$  \n",
    "$C[2] = A[2, 0] \\times v[0] + A[2, 1] \\times v[1]$  "
   ]
  },
  {
   "cell_type": "code",
   "execution_count": 42,
   "id": "c408961b-97e7-4613-91cd-327f66b8d1d5",
   "metadata": {},
   "outputs": [
    {
     "name": "stdout",
     "output_type": "stream",
     "text": [
      "A =\n",
      "[[1 2]\n",
      " [3 4]\n",
      " [5 6]]\n",
      "\n",
      "v =\n",
      "[0.5 0.5]\n",
      "\n",
      "C =\n",
      "[1.5 3.5 5.5]\n",
      "\n"
     ]
    }
   ],
   "source": [
    "# With NumPy\n",
    "## Create matrices\n",
    "A = np.array([[1, 2],\n",
    "              [3, 4],\n",
    "              [5, 6]])\n",
    "v = np.array([0.5, 0.5])\n",
    "\n",
    "print(f\"A =\\n{A}\\n\")\n",
    "print(f\"v =\\n{v}\\n\")\n",
    "\n",
    "## Add matrices\n",
    "C = A.dot(v)\n",
    "print(f\"C =\\n{C}\\n\")"
   ]
  },
  {
   "cell_type": "code",
   "execution_count": 107,
   "id": "2de7f5cc-f677-4568-a768-6d8b91d8d65d",
   "metadata": {},
   "outputs": [
    {
     "name": "stdout",
     "output_type": "stream",
     "text": [
      "A = \n",
      "[1, 2]\n",
      "[3, 4]\n",
      "[5, 6]\n",
      "\n",
      "v = \n",
      "0.5\n",
      "0.5\n",
      "\n",
      "C = [1.5, 3.5, 5.5]\n"
     ]
    }
   ],
   "source": [
    "# From scratch\n",
    "## Create matrices\n",
    "A = [[1, 2],\n",
    "     [3, 4],\n",
    "     [5, 6]]\n",
    "\n",
    "v = [0.5, 0.5]\n",
    "\n",
    "print(\"A = \")\n",
    "for row in A:\n",
    "    print(row)\n",
    "    \n",
    "print(\"\\nv = \")\n",
    "for row in v:\n",
    "    print(row)\n",
    "    \n",
    "## Multiply matrix by vector\n",
    "C = []\n",
    "def multiply_matrix_by_vector(M, v):\n",
    "    for i in range(0, len(M)):\n",
    "        C_ij = M[i][0] * v[0] + M[i][1] * v[1]\n",
    "        C.append(C_ij)\n",
    "    return C\n",
    "\n",
    "C = multiply_matrix_by_vector(A, v)\n",
    "print(f\"\\nC = {C}\")"
   ]
  },
  {
   "cell_type": "markdown",
   "id": "c2260186-0b1e-48ea-9af5-59ee2ecb1ab2",
   "metadata": {},
   "source": [
    "#### Matrix-scalar multiplication\n",
    "- a matrix can be multiplied by a scalar\n",
    "- the result is a matrix of the same dimension as the parent matrix where each element is multiplied by the scalar value\n",
    "\n",
    "##### Math notation\n",
    "$C = A \\cdot b$  \n",
    "or more compactly  \n",
    "$C = Ab$  \n",
    "\n",
    "$A = \\begin{pmatrix}\n",
    "     a_{1, 1} & a_{1, 2} \\\\\n",
    "     a_{2, 1} & a_{2, 2} \\\\\n",
    "     a_{3, 1} & a_{3, 2} \\\\\n",
    "\\end{pmatrix}$  \n",
    "\n",
    "$C = \\begin{pmatrix}\n",
    "     a_{1, 1} \\times b & a_{1, 2} \\times b \\\\\n",
    "     a_{2, 1} \\times b & a_{2, 2} \\times b \\\\\n",
    "     a_{3, 1} \\times b & a_{3, 2} \\times b \\\\\n",
    "\\end{pmatrix}$  \n",
    "or more compactly  \n",
    "$C = \\begin{pmatrix}\n",
    "     a_{1, 1}b & a_{1, 2}b \\\\\n",
    "     a_{2, 1}b & a_{2, 2}b \\\\\n",
    "     a_{3, 1}b & a_{3, 2}b \\\\\n",
    "\\end{pmatrix}$  \n",
    "\n",
    "$C[0, 0] = A[0, 0] \\times b$  \n",
    "$C[1, 0] = A[1, 0] \\times b$  \n",
    "$C[2, 0] = A[2, 0] \\times b$  \n",
    "$C[1, 1] = A[0, 1] \\times b$  \n",
    "$C[2, 1] = A[1, 1] \\times b$  \n",
    "$C[3, 1] = A[2, 1] \\times b$  "
   ]
  },
  {
   "cell_type": "code",
   "execution_count": 46,
   "id": "ce9c1c80-8961-4a91-ab2d-4258941ca8bf",
   "metadata": {},
   "outputs": [
    {
     "name": "stdout",
     "output_type": "stream",
     "text": [
      "A =\n",
      "[[1 2]\n",
      " [3 4]\n",
      " [5 6]]\n",
      "\n",
      "v =\n",
      "[0.5, 0.5]\n",
      "\n",
      "C =\n",
      "[[0.5 1. ]\n",
      " [1.5 2. ]\n",
      " [2.5 3. ]]\n",
      "\n"
     ]
    }
   ],
   "source": [
    "# With NumPy\n",
    "## Create matrices\n",
    "A = np.array([[1, 2],\n",
    "              [3, 4],\n",
    "              [5, 6]])\n",
    "b = 0.5\n",
    "\n",
    "print(f\"A =\\n{A}\\n\")\n",
    "print(f\"v =\\n{v}\\n\")\n",
    "\n",
    "## Add matrices\n",
    "C = A * b\n",
    "print(f\"C =\\n{C}\\n\")"
   ]
  },
  {
   "cell_type": "code",
   "execution_count": 109,
   "id": "97474144-3ffd-4410-8009-d3c73d55fc4e",
   "metadata": {},
   "outputs": [
    {
     "name": "stdout",
     "output_type": "stream",
     "text": [
      "A = \n",
      "[1, 2]\n",
      "[3, 4]\n",
      "[5, 6]\n",
      "\n",
      "b = 0.5\n",
      "\n",
      "C =\n",
      "[0.5, 1.0]\n",
      "[1.5, 2.0]\n",
      "[2.5, 3.0]\n"
     ]
    }
   ],
   "source": [
    "# From scratch\n",
    "## Create matrices\n",
    "A = [[1, 2],\n",
    "     [3, 4],\n",
    "     [5, 6]]\n",
    "\n",
    "b = 0.5\n",
    "\n",
    "print(\"A = \")\n",
    "for row in A:\n",
    "    print(row)\n",
    "    \n",
    "print(f\"\\nb = {b}\")\n",
    "    \n",
    "## Multiply matrix by scalar\n",
    "C = []\n",
    "def multiply_matrix_by_scalar(M, s):\n",
    "    for i in range(0, len(A)):\n",
    "        C.append([])\n",
    "        for j in range(0, len(A[0])):\n",
    "            C_ij = A[i][j] * s\n",
    "            C[i].append(C_ij)\n",
    "    return C\n",
    "\n",
    "print(f\"\\nC =\")\n",
    "C = multiply_matrix_by_scalar(A, b)\n",
    "for row in C:\n",
    "    print(row)"
   ]
  },
  {
   "cell_type": "markdown",
   "id": "a11f66a9-5b50-4054-9856-3ac74a3943d6",
   "metadata": {},
   "source": [
    "## 10 - Types of matrices\n",
    "### Square matrix\n",
    "- a square matrix has the same number of rows $m$ and $columns$ $n$\n",
    "- it's different from a rectangular matrix where the number of rows and numbers are not equal\n",
    "- the size of the matrix is called the **order** (e.g. an order 4 matrix is a $4 \\times 4$ matrix)\n",
    "- the vector of values form the top left of the matrix down to the bottom right is called the **main diagonal**\n",
    "- squares matrices are easily added and multiplied together\n",
    "- square matrices are the basis of many simple linear transformations, such as rotations (e.g. image rotation)\n",
    "\n",
    "#### Math notation\n",
    "$A = \\begin{pmatrix}\n",
    "     a_{1, 1} & a_{1, 2} & a_{1, 3} \\\\\n",
    "     a_{2, 1} & a_{2, 2} & a_{1, 3} \\\\\n",
    "     a_{3, 1} & a_{3, 2} & a_{1, 3} \\\\\n",
    "\\end{pmatrix}$  \n",
    "\n",
    "### Symmetric matrix\n",
    "- a symmetric matrix is a type of square matrix where the top-right triangle is the same as the lower-left triangle\n",
    "- the axis of symmetry is always the main diagonal\n",
    "- a symmetric matrix is always square and equal to its own transpose (the transpose is an operation that flips the number of rows and columns\n",
    "- the symmetric matrix is one of the most important types of matrices in linear algebra and linear algebra applications\n",
    "\n",
    "#### Math notation\n",
    "$M = M^{T}$  \n",
    "\n",
    "$M = \\begin{pmatrix}\n",
    "     1 & 2 & 3 & 4 & 5 \\\\\n",
    "     2 & 1 & 2 & 3 & 4 \\\\\n",
    "     3 & 2 & 1 & 2 & 3 \\\\\n",
    "     4 & 3 & 2 & 1 & 2 \\\\\n",
    "     5 & 4 & 3 & 2 & 1 \\\\\n",
    "\\end{pmatrix}$\n",
    "\n",
    "### Triangular matrix\n",
    "- a triangular matrix is a type of square matrix that has all values in the upper-right or lower-left corner non-zero, and the remaining elements equal to 0\n",
    "- a triangular matrix with values only above the main diagonal is called an **upper triangular matrix**\n",
    "- a triangular matrix with values only below the main diagonal is called an **lower triangular matrix**\n",
    "- with NumPy, a lower triangular matrix can be obtained using `tril()`, and an upper triangular matrix can be obtained using `triu()`\n",
    "\n",
    "#### Math notation\n",
    "Upper triangular matrix:  \n",
    "$A = \\begin{pmatrix}\n",
    "     1 & 2 & 3 \\\\\n",
    "     0 & 2 & 3 \\\\\n",
    "     0 & 0 & 3 \\\\\n",
    "\\end{pmatrix}$  \n",
    "\n",
    "Upper triangular matrix:  \n",
    "$A = \\begin{pmatrix}\n",
    "     1 & 0 & 0 \\\\\n",
    "     1 & 2 & 0 \\\\\n",
    "     1 & 2 & 3 \\\\\n",
    "\\end{pmatrix}$  "
   ]
  },
  {
   "cell_type": "code",
   "execution_count": 56,
   "id": "f14b5310-ba41-470e-bedc-e44d1c118d05",
   "metadata": {},
   "outputs": [
    {
     "name": "stdout",
     "output_type": "stream",
     "text": [
      "[[1 2 3]\n",
      " [1 2 3]\n",
      " [1 2 3]]\n",
      "\n",
      "[[1 0 0]\n",
      " [1 2 0]\n",
      " [1 2 3]]\n",
      "\n",
      "[[1 2 3]\n",
      " [0 2 3]\n",
      " [0 0 3]]\n"
     ]
    }
   ],
   "source": [
    "# With NumPy\n",
    "## Define a square matrix\n",
    "M = np.array([[1, 2, 3],\n",
    "              [1, 2, 3],\n",
    "              [1, 2, 3]])\n",
    "print(M)\n",
    "\n",
    "## Create a lower triangular matrix\n",
    "lower = np.tril(M)\n",
    "print(f\"\\n{lower}\")\n",
    "\n",
    "## Create an upper triangular matrix\n",
    "upper = np.triu(M)\n",
    "print(f\"\\n{upper}\")"
   ]
  },
  {
   "cell_type": "code",
   "execution_count": 75,
   "id": "b4bafb6a-fa14-4145-8a17-f73d5e04a807",
   "metadata": {},
   "outputs": [
    {
     "name": "stdout",
     "output_type": "stream",
     "text": [
      "[1, 2, 3]\n",
      "[1, 2, 3]\n",
      "[1, 2, 3]\n",
      "\n",
      "[1, 0, 0]\n",
      "[1, 2, 0]\n",
      "[1, 2, 3]\n",
      "\n",
      "[1, 2, 3]\n",
      "[0, 2, 3]\n",
      "[0, 0, 3]\n"
     ]
    }
   ],
   "source": [
    "# From scratch\n",
    "def create_triangular_matrix(M, kind=\"upper\"):\n",
    "    new_matrix = []\n",
    "    if kind == \"upper\":\n",
    "        for i in range(len(M)):\n",
    "            new_matrix.append([0 for i in range(len(M[0]))])\n",
    "            for j in range(len(M[0])):\n",
    "                if j >= i:\n",
    "                    new_matrix[i][j:] = M[i][j:]\n",
    "                    \n",
    "    if kind == \"lower\":\n",
    "        for i in range(len(M)):\n",
    "            new_matrix.append([0 for i in range(len(M[0]))])\n",
    "            new_matrix[i][:i+1] = M[i][:i+1]\n",
    "                    \n",
    "    return new_matrix\n",
    "                \n",
    "M = [[1, 2, 3],\n",
    "     [1, 2, 3],\n",
    "     [1, 2, 3]]\n",
    "\n",
    "for row in M:\n",
    "    print(row)\n",
    "\n",
    "lower = create_triangular_matrix(M, kind=\"lower\")\n",
    "print(\"\")\n",
    "for row in lower:\n",
    "    print(row)\n",
    "\n",
    "upper = create_triangular_matrix(M, kind=\"upper\")\n",
    "print(\"\")\n",
    "for row in upper:\n",
    "    print(row)"
   ]
  },
  {
   "cell_type": "markdown",
   "id": "aa58b924-3bbf-42a1-8c56-3e563f02ce24",
   "metadata": {},
   "source": [
    "### Diagonal matrix\n",
    "- a matrix is diagonal when values outside of the main diagonal have a 0 value\n",
    "- a diagonal matrix is denoted $D$\n",
    "- a diagonal matrix can be represented as a matrix or as the vector of its main diagonal values\n",
    "- a diagonal matrix doesn't have to be square: in a rectangular matrix, the diagonal covers the dimension with the smallest length\n",
    "- with NumPy, a diagonal matrix can be obtained using `diag()`\n",
    "\n",
    "#### Math notation\n",
    "As a matrix:  \n",
    "$D = \\begin{pmatrix}\n",
    "     1 & 0 & 0 \\\\\n",
    "     0 & 2 & 0 \\\\\n",
    "     0 & 0 & 3 \\\\\n",
    "\\end{pmatrix}$  \n",
    "\n",
    "As a vector:  \n",
    "$d = \\begin{pmatrix}\n",
    "     d_{1, 1} \\\\\n",
    "     d_{2, 2} \\\\\n",
    "     d_{3, 3} \\\\\n",
    "\\end{pmatrix}$  \n",
    "\n",
    "with the specific values:  \n",
    "$d = \\begin{pmatrix}\n",
    "     1 \\\\\n",
    "     2 \\\\\n",
    "     3 \\\\\n",
    "\\end{pmatrix}$  "
   ]
  },
  {
   "cell_type": "code",
   "execution_count": 80,
   "id": "b66b2ada-56ee-4d08-93a4-238aaa6ffb20",
   "metadata": {},
   "outputs": [
    {
     "name": "stdout",
     "output_type": "stream",
     "text": [
      "\n",
      "[[1 2 3]\n",
      " [1 2 3]\n",
      " [1 2 3]]\n",
      "\n",
      "[1 2 3]\n",
      "\n",
      "[[1 0 0]\n",
      " [0 2 0]\n",
      " [0 0 3]]\n"
     ]
    }
   ],
   "source": [
    "# With NumPy\n",
    "## Create array\n",
    "M = np.array([[1, 2, 3],\n",
    "              [1, 2, 3],\n",
    "              [1, 2, 3]])\n",
    "print(f\"\\n{M}\")\n",
    "\n",
    "## Extract diagonal vector\n",
    "d = np.diag(M)\n",
    "print(f\"\\n{d}\")\n",
    "\n",
    "## Extract diagonal matrix from vector\n",
    "D = np.diag(d)\n",
    "print(f\"\\n{D}\")"
   ]
  },
  {
   "cell_type": "code",
   "execution_count": 81,
   "id": "e889dee8-d9ee-4e0f-b97c-8c448bdbd827",
   "metadata": {},
   "outputs": [
    {
     "name": "stdout",
     "output_type": "stream",
     "text": [
      "[1, 2, 3]\n",
      "[1, 2, 3]\n",
      "[1, 2, 3]\n",
      "\n",
      "[1, 0, 0]\n",
      "[0, 2, 0]\n",
      "[0, 0, 3]\n"
     ]
    }
   ],
   "source": [
    "# From scratch\n",
    "def create_diagonal_matrix(M):\n",
    "    new_matrix = []\n",
    "    for i in range(len(M)):\n",
    "        new_matrix.append([0 for i in range(len(M[0]))])\n",
    "        for j in range(len(M[0])):\n",
    "            if i == j:\n",
    "                new_matrix[i][j] = M[i][j]\n",
    "                    \n",
    "    return new_matrix\n",
    "                \n",
    "M = [[1, 2, 3],\n",
    "     [1, 2, 3],\n",
    "     [1, 2, 3]]\n",
    "\n",
    "for row in M:\n",
    "    print(row)\n",
    "\n",
    "diagonal = create_diagonal_matrix(M)\n",
    "print(\"\")\n",
    "for row in diagonal:\n",
    "    print(row)"
   ]
  },
  {
   "cell_type": "markdown",
   "id": "c2ca1a31-1701-45b8-89a0-c58c4a54d429",
   "metadata": {},
   "source": [
    "### Identity matrix\n",
    "- an identity matrix is a matrix that does not change a vector when multiplied\n",
    "- all of the scalar values along the main diagonal are equal to one\n",
    "- all of the scalar values that are not along the main diagonal are equal to zero\n",
    "- an identity matrix is often denoted $I^{n}$ where $n$ is the dimensionality of the square matrix\n",
    "- an identity matrix can also be denoted $U$ for **unit** matrix (not to be confused with the *unitary* matrix)\n",
    "- an identity matrix can be created using the `identity()` function in NumPy\n",
    "- the identity matrix is a component in important matrix operations (e.g. matrix inversion)\n",
    "\n",
    "#### Math notation\n",
    "$I^{3} = \\begin{pmatrix}\n",
    "         1 & 0 & 0 \\\\\n",
    "         0 & 1 & 0 \\\\\n",
    "         0 & 0 & 1 \\\\\n",
    "\\end{pmatrix}$  "
   ]
  },
  {
   "cell_type": "code",
   "execution_count": 82,
   "id": "351f4b59-2b53-4850-abcc-780da1f3bb8a",
   "metadata": {},
   "outputs": [
    {
     "name": "stdout",
     "output_type": "stream",
     "text": [
      "[[1. 0. 0.]\n",
      " [0. 1. 0.]\n",
      " [0. 0. 1.]]\n"
     ]
    }
   ],
   "source": [
    "# With NumPy\n",
    "## Create identity matrix\n",
    "I = np.identity(3)\n",
    "print(I)"
   ]
  },
  {
   "cell_type": "code",
   "execution_count": 89,
   "id": "d262befc-ff8e-4a66-a7fc-eb43ed364799",
   "metadata": {},
   "outputs": [
    {
     "name": "stdout",
     "output_type": "stream",
     "text": [
      "[1, 0, 0]\n",
      "[0, 1, 0]\n",
      "[0, 0, 1]\n"
     ]
    }
   ],
   "source": [
    "# From scratch\n",
    "def create_identity_matrix(n):\n",
    "    I = []\n",
    "    for i in range(n):\n",
    "        I.append([])\n",
    "        for j in range(n):\n",
    "            if i != j:\n",
    "                I[i].append(0)\n",
    "            else:\n",
    "                I[i].append(1)\n",
    "\n",
    "    return I\n",
    "            \n",
    "# Create identity matrix\n",
    "I = create_identity_matrix(3)\n",
    "for row in I:\n",
    "    print(row)"
   ]
  },
  {
   "cell_type": "markdown",
   "id": "cd1eef5b-fa93-4fff-b963-010191140575",
   "metadata": {},
   "source": [
    "### Orthogonal matrix\n",
    "- two vectors are orthogonal when their dot product equals zero\n",
    "- if the length of each vector is one, then the vectors are called **orthonormal** as they are **orthogonal** and **normalized**\n",
    "- rows are mutually orthonormal and columns are mutually orthonormal\n",
    "- one line is orthogonal with another if it's perpendicular to it\n",
    "- an orthogonal matrix is a type of square matrix whose columns and rows are orthonormal unit vectors (e.g. perpendicular and with a magnitude of one)\n",
    "- multiplication by an orthogonal matrix preserves lengths\n",
    "- a matrix is orthogonal if its transpose is equal to its inverse\n",
    "- a matrix is orthogonal if the dot product of the matrix and its transpose equals the identity matrix\n",
    "- orthogonal matrices are used in linear transformations, such as reflections of permutations\n",
    "\n",
    "#### Math notation\n",
    "$v \\cdot w = 0$  \n",
    "or  \n",
    "$v \\cdot w^{T} = 0$  \n",
    "\n",
    "$Q^{T} \\times Q = Q \\times Q^{T} = I$  \n",
    "\n",
    "A matrix is orthogonal if its transpose is equal to its inverse:  \n",
    "$Q^{T} = Q^{-1}$  \n",
    "\n",
    "A matrix is orthogonal if the dot product of the matrix and its transpose equals the identity matrix:  \n",
    "$Q \\cdot Q^{T} = I$  \n",
    "\n",
    "Example of an orthogonal matrix:  \n",
    "$Q = \\begin{pmatrix}\n",
    "     1 & 0 \\\\\n",
    "     0 & -1 \\\\\n",
    "\\end{pmatrix}$  "
   ]
  },
  {
   "cell_type": "code",
   "execution_count": 92,
   "id": "21fcb4e3-24c8-41bc-9d45-a387ef7bc5b7",
   "metadata": {},
   "outputs": [
    {
     "name": "stdout",
     "output_type": "stream",
     "text": [
      "[[ 1  0]\n",
      " [ 0 -1]]\n",
      "\n",
      "[[ 1  0]\n",
      " [ 0 -1]]\n",
      "\n",
      "[[1 0]\n",
      " [0 1]]\n",
      "\n"
     ]
    }
   ],
   "source": [
    "# With NumPy\n",
    "## Define orthogonal matrix\n",
    "Q = np.array([[1, 0],\n",
    "              [0, -1]])\n",
    "print(f\"{Q}\\n\")\n",
    "\n",
    "## Get inverse equivalence\n",
    "print(f\"{Q.T}\\n\")\n",
    "\n",
    "## Get dot product equivalence\n",
    "print(f\"{Q.dot(Q.T)}\\n\")"
   ]
  },
  {
   "cell_type": "code",
   "execution_count": 128,
   "id": "225a39d5-b399-4f5a-bca2-266921775125",
   "metadata": {},
   "outputs": [
    {
     "name": "stdout",
     "output_type": "stream",
     "text": [
      "[1, 0]\n",
      "[0, -1]\n",
      "\n",
      "[1, 0]\n",
      "[0, -1]\n",
      "\n",
      "[1, 0]\n",
      "[0, 1]\n"
     ]
    }
   ],
   "source": [
    "# From scratch\n",
    "## Define transpose function\n",
    "def transpose_matrix(M):\n",
    "    T = []\n",
    "    for i in range(len(M[0])):\n",
    "        T.append([])\n",
    "        for j in range(len(M)):\n",
    "            T[i].append(M[j][i])\n",
    "    return T\n",
    "\n",
    "# Create matrix\n",
    "Q = [[1, 0],\n",
    "     [0, -1]]\n",
    "for row in Q:\n",
    "    print(row)\n",
    "\n",
    "# Get inverse equivalence\n",
    "matrix_transpose = transpose_matrix(Q)\n",
    "print(\"\")\n",
    "for row in matrix_transpose:\n",
    "    print(row)\n",
    "\n",
    "# Get dot product equivalence\n",
    "dot_product = calculate_dot_product(Q, matrix_transpose)\n",
    "print(\"\")\n",
    "for row in dot_product:\n",
    "    print(row)"
   ]
  },
  {
   "cell_type": "markdown",
   "id": "16afbb40-f570-4778-92e3-06e8d6fa618e",
   "metadata": {},
   "source": [
    "## 11 - Matrix operations"
   ]
  }
 ],
 "metadata": {
  "kernelspec": {
   "display_name": "Python 3 (ipykernel)",
   "language": "python",
   "name": "python3"
  },
  "language_info": {
   "codemirror_mode": {
    "name": "ipython",
    "version": 3
   },
   "file_extension": ".py",
   "mimetype": "text/x-python",
   "name": "python",
   "nbconvert_exporter": "python",
   "pygments_lexer": "ipython3",
   "version": "3.8.13"
  }
 },
 "nbformat": 4,
 "nbformat_minor": 5
}
