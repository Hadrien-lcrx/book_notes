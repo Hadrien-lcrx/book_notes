{
 "cells": [
  {
   "cell_type": "markdown",
   "id": "e7422086-2073-404e-8701-76b4b8e6449a",
   "metadata": {},
   "source": [
    "# Book title"
   ]
  },
  {
   "cell_type": "markdown",
   "id": "f419c259-e206-4d49-95c3-aca23c56dc4c",
   "metadata": {},
   "source": [
    "## Table of content\n",
    "1. [Introduction](#01)\n",
    "    - [Everything you need to know](#01_01)\n",
    "    - [Subtitle 2]()\n",
    "2. [The four underlying principles](#02)\n",
    "    - ..."
   ]
  },
  {
   "cell_type": "markdown",
   "id": "51b54cb9-2af2-489c-9e56-0fffaabaab1a",
   "metadata": {},
   "source": [
    "## 01 - Introduction <a name=\"01\"></a>"
   ]
  },
  {
   "cell_type": "markdown",
   "id": "816b799b-a183-4c0f-9be4-e35a506e2c76",
   "metadata": {},
   "source": [
    "**Writing** (defined as basic, everyday writing) **is everywhere**. We write to:\n",
    "- remember (ideas, quotes, outcomes, questions, conclusions) important things, or things we're afraid to forget\n",
    "- understand\n",
    "- organize thoughts\n",
    "- memorize\n",
    "- share thoughts with others\n",
    "- prepare for an exam\n",
    "\n",
    "> Every intellectual endeavor starts with a note.\n",
    "\n",
    "**Most books about writing focus on**:\n",
    "- Structure and format (i.e. formal requirements)\n",
    "- Project management\n",
    "- Lengthy pieces (as they are harder, a source of struggle and anxiety, and therefore represent the majority of the existing demand)\n",
    "\n",
    "**&rarr;** The common problem with these books is that they assume that you start from scratch.\n",
    "\n",
    "However, improving the organization of all writing has a beneficial impact on:\n",
    "- converting thoughts and discoveries into convincing written pieces\n",
    "- building up smart and connected notes\n",
    "- making writing easier\n",
    "- retaining knowledge in the long run\n",
    "- generating new ideas\n",
    "\n",
    "> Writing is not what follow research, learning or studying, it is the medium of all this work.\n",
    "\n",
    "**&rarr;** Any improvement in taking, organizing and leveraging notes makes a difference and prevent the \"blank page\" situation.\n",
    "\n",
    "Not engaging in this work in amount it, however, doesn't have any immediate consequences, which is why most books focus on writing from scratch\n",
    "\n",
    "> We don't experience any immediate negative feedback if we do it badly.\n",
    "\n",
    "**&rarr;** The right mindset focuses on what actions are taken before (e.g. weeks, months, years before) arriving in front of a blank page, improving the possibility to write a great paper easily.\n",
    "\n",
    "Having things in your head is not enough: the hard part is getting it on paper. **Good, productive writing is rooted in good note-taking:** turning a written piece into another one is easier than assembling an retrieving thoughts.\n",
    "\n",
    "The single **most important indicator** of academic **success** lies in the **way the daily work is done**: a higher IQ doesn't lead to distinguished work or failure. Self-discipline and self-control in approaching tasks at hand is what makes a difference.\n",
    "\n",
    "> Doing the work required and doing it in a smart way leads, somehow unsurprisingly, to success. \n",
    "\n",
    "However, willpower fluctuates, and is limited and depleting, making it an insufficient resource in the long term.\n",
    "\n",
    "> Who would want to flog oneself to work anyway?\n",
    "\n",
    "Fortunately, **self-control and discipline have more to do with our environment than ourselves**; and environment can be modified for this purpose: having meaningful, well-defined tasks beats willpower.\n",
    "\n",
    "> Not having willpower, but not having to user willpower, indicates that you set yourself up for success."
   ]
  },
  {
   "cell_type": "markdown",
   "id": "231f3291-cec9-433f-b660-4a1e966dbe49",
   "metadata": {},
   "source": [
    "### Everything you need to know <a name=\"01_01\"></a>"
   ]
  },
  {
   "cell_type": "markdown",
   "id": "439bab49-e7be-4321-94b2-3db5828199ec",
   "metadata": {},
   "source": [
    "### Subtitle 2 <a name=\"01_02\"></a>"
   ]
  },
  {
   "cell_type": "markdown",
   "id": "f4c073d0-d4be-40a2-b4b1-817f785c86fe",
   "metadata": {},
   "source": [
    "## 02 - The four underlying principles <a name=\"02\"></a>"
   ]
  },
  {
   "cell_type": "code",
   "execution_count": null,
   "id": "ba823061-6636-4be5-b10c-521c1cfde78c",
   "metadata": {},
   "outputs": [],
   "source": []
  }
 ],
 "metadata": {
  "kernelspec": {
   "display_name": "Python 3 (ipykernel)",
   "language": "python",
   "name": "python3"
  },
  "language_info": {
   "codemirror_mode": {
    "name": "ipython",
    "version": 3
   },
   "file_extension": ".py",
   "mimetype": "text/x-python",
   "name": "python",
   "nbconvert_exporter": "python",
   "pygments_lexer": "ipython3",
   "version": "3.8.13"
  }
 },
 "nbformat": 4,
 "nbformat_minor": 5
}
