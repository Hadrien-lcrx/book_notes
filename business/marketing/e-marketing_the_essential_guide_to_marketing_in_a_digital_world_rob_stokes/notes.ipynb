{
 "cells": [
  {
   "cell_type": "markdown",
   "id": "2e9208a7-a639-49b5-bbca-bb434330de2d",
   "metadata": {},
   "source": [
    "# E-marketing - The Essential Guide to Marketing in a Digital World"
   ]
  },
  {
   "cell_type": "markdown",
   "id": "5edca4a9-31e6-4e14-bd9a-819343d4a9f5",
   "metadata": {},
   "source": [
    "## 01 - Strategy and context\n",
    "### Introduction\n",
    "Strategy:\n",
    "- indicates the most advantageous direction to take for an organization over a given period of time\n",
    "- outlines which tactics and means to execute this direction\n",
    "- is about using your strengths and the context to your advantage\n",
    "- understands what problems the business needs to solve\n",
    "- considers the context in which the business and its competitors operate\n",
    "- outlines ways to gain advantage and add value\n",
    "\n",
    "### Key terms and concepts\n",
    "- **Cluetrain manifesto**: A set of 95 theses organized as a call-to-action (CTA) for businesses operating within a newly connected marketplace, published in 1999. An early source of guidelines for social media.\n",
    "- **Market share**: The proportion of the total available market or segment that is being services by the company.\n",
    "- **Metric**: A unit of measurement.\n",
    "- **Pay per click (PPC)**: Advertising where the advertiser pays only for each click on their advert, not for the opportunity for it to be seen or displayed.\n",
    "- **Return on investment (ROI)**: The ratio of cost to profit.\n",
    "- **Search engine optimization (SEO)**: The practice that aims to improve a website's ranking for specific keywords in search engines.\n",
    "- **Short message service (SMS)**: Electronic messages sent on cellular network.\n",
    "- **Strategy**: Set of ideas outlining how a product or brand will be positioned and achieve its objectives. Guides decisions on how to create, distribute, promote and price the product or service.\n",
    "- **Tactic**: A specific action or method that contributes to achieving a goal.\n",
    "\n",
    "### What is marketing?"
   ]
  },
  {
   "cell_type": "code",
   "execution_count": null,
   "id": "0f6745a1-f840-4c3f-8e0e-6c82369a442a",
   "metadata": {},
   "outputs": [],
   "source": []
  }
 ],
 "metadata": {
  "kernelspec": {
   "display_name": "Python 3 (ipykernel)",
   "language": "python",
   "name": "python3"
  },
  "language_info": {
   "codemirror_mode": {
    "name": "ipython",
    "version": 3
   },
   "file_extension": ".py",
   "mimetype": "text/x-python",
   "name": "python",
   "nbconvert_exporter": "python",
   "pygments_lexer": "ipython3",
   "version": "3.8.13"
  }
 },
 "nbformat": 4,
 "nbformat_minor": 5
}
