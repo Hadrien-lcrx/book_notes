{
 "cells": [
  {
   "cell_type": "markdown",
   "id": "e7422086-2073-404e-8701-76b4b8e6449a",
   "metadata": {},
   "source": [
    "# Book title"
   ]
  },
  {
   "cell_type": "markdown",
   "id": "f419c259-e206-4d49-95c3-aca23c56dc4c",
   "metadata": {},
   "source": [
    "## Table of content\n",
    "1. [Chapter 1](#01)\n",
    "    - [Subtitle 1](#01_01)\n",
    "    - [Subtitle 2]()\n",
    "2. [Chapter 2](#02)\n",
    "    - ..."
   ]
  },
  {
   "cell_type": "markdown",
   "id": "51b54cb9-2af2-489c-9e56-0fffaabaab1a",
   "metadata": {},
   "source": [
    "## 01 - Chapter 1 <a name=\"01\"></a>"
   ]
  },
  {
   "cell_type": "markdown",
   "id": "231f3291-cec9-433f-b660-4a1e966dbe49",
   "metadata": {},
   "source": [
    "### Subtitle 1 <a name=\"01_01\"></a>"
   ]
  },
  {
   "cell_type": "markdown",
   "id": "439bab49-e7be-4321-94b2-3db5828199ec",
   "metadata": {},
   "source": [
    "### Subtitle 2 <a name=\"01_02\"></a>"
   ]
  },
  {
   "cell_type": "markdown",
   "id": "f4c073d0-d4be-40a2-b4b1-817f785c86fe",
   "metadata": {},
   "source": [
    "## 02 - Chapter 2 <a name=\"02\"></a>"
   ]
  },
  {
   "cell_type": "code",
   "execution_count": null,
   "id": "ba823061-6636-4be5-b10c-521c1cfde78c",
   "metadata": {},
   "outputs": [],
   "source": []
  }
 ],
 "metadata": {
  "kernelspec": {
   "display_name": "Python 3 (ipykernel)",
   "language": "python",
   "name": "python3"
  },
  "language_info": {
   "codemirror_mode": {
    "name": "ipython",
    "version": 3
   },
   "file_extension": ".py",
   "mimetype": "text/x-python",
   "name": "python",
   "nbconvert_exporter": "python",
   "pygments_lexer": "ipython3",
   "version": "3.8.13"
  }
 },
 "nbformat": 4,
 "nbformat_minor": 5
}
